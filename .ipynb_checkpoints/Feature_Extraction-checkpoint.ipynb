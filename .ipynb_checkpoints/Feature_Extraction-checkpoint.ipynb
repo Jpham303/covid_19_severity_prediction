{
 "cells": [
  {
   "cell_type": "markdown",
   "metadata": {
    "colab_type": "text",
    "id": "view-in-github"
   },
   "source": [
    "<a href=\"https://colab.research.google.com/github/lukevrobbins/covid_19_severity_prediction/blob/main/Feature_Extraction.ipynb\" target=\"_parent\"><img src=\"https://colab.research.google.com/assets/colab-badge.svg\" alt=\"Open In Colab\"/></a>"
   ]
  },
  {
   "cell_type": "code",
   "execution_count": 2,
   "metadata": {
    "id": "ub9I-7MnITRo"
   },
   "outputs": [
    {
     "name": "stdout",
     "output_type": "stream",
     "text": [
      "Collecting pyradiomics\n",
      "  Downloading pyradiomics-3.0.1.tar.gz (34.5 MB)\n",
      "Requirement already satisfied: numpy>=1.9.2 in t:\\users\\luke\\anaconda3\\lib\\site-packages (from pyradiomics) (1.18.5)\n",
      "Collecting SimpleITK>=0.9.1\n",
      "  Downloading SimpleITK-2.1.1-cp38-cp38-win_amd64.whl (26.2 MB)\n",
      "Requirement already satisfied: PyWavelets>=0.4.0 in t:\\users\\luke\\anaconda3\\lib\\site-packages (from pyradiomics) (1.1.1)\n",
      "Collecting pykwalify>=1.6.0\n",
      "  Downloading pykwalify-1.8.0-py2.py3-none-any.whl (24 kB)\n",
      "Requirement already satisfied: six>=1.10.0 in t:\\users\\luke\\anaconda3\\lib\\site-packages (from pyradiomics) (1.15.0)\n",
      "Collecting ruamel.yaml>=0.16.0\n",
      "  Downloading ruamel.yaml-0.17.21-py3-none-any.whl (109 kB)\n",
      "Collecting docopt>=0.6.2\n",
      "  Downloading docopt-0.6.2.tar.gz (25 kB)\n",
      "Requirement already satisfied: python-dateutil>=2.8.0 in t:\\users\\luke\\anaconda3\\lib\\site-packages (from pykwalify>=1.6.0->pyradiomics) (2.8.1)\n",
      "Collecting ruamel.yaml.clib>=0.2.6\n",
      "  Downloading ruamel.yaml.clib-0.2.6-cp38-cp38-win_amd64.whl (117 kB)\n",
      "Building wheels for collected packages: pyradiomics, docopt\n",
      "  Building wheel for pyradiomics (setup.py): started\n",
      "  Building wheel for pyradiomics (setup.py): finished with status 'error'\n",
      "  Running setup.py clean for pyradiomics\n",
      "  Building wheel for docopt (setup.py): started\n",
      "  Building wheel for docopt (setup.py): finished with status 'done'\n",
      "  Created wheel for docopt: filename=docopt-0.6.2-py2.py3-none-any.whl size=13705 sha256=7353e5d951b0884c568e502f0683bed6bb1d8a3a38c06d219f8cbfa26c1398a4\n",
      "  Stored in directory: c:\\users\\luke\\appdata\\local\\pip\\cache\\wheels\\56\\ea\\58\\ead137b087d9e326852a851351d1debf4ada529b6ac0ec4e8c\n",
      "Successfully built docopt\n",
      "Failed to build pyradiomics\n",
      "Installing collected packages: ruamel.yaml.clib, ruamel.yaml, docopt, SimpleITK, pykwalify, pyradiomics\n",
      "    Running setup.py install for pyradiomics: started\n",
      "    Running setup.py install for pyradiomics: finished with status 'error'\n"
     ]
    },
    {
     "name": "stderr",
     "output_type": "stream",
     "text": [
      "  ERROR: Command errored out with exit status 1:\n",
      "   command: 'T:\\Users\\Luke\\anaconda3\\python.exe' -u -c 'import sys, setuptools, tokenize; sys.argv[0] = '\"'\"'C:\\\\Users\\\\Luke\\\\AppData\\\\Local\\\\Temp\\\\pip-install-rqr3bb31\\\\pyradiomics_85fcc75de6554bab8256e11994468134\\\\setup.py'\"'\"'; __file__='\"'\"'C:\\\\Users\\\\Luke\\\\AppData\\\\Local\\\\Temp\\\\pip-install-rqr3bb31\\\\pyradiomics_85fcc75de6554bab8256e11994468134\\\\setup.py'\"'\"';f=getattr(tokenize, '\"'\"'open'\"'\"', open)(__file__);code=f.read().replace('\"'\"'\\r\\n'\"'\"', '\"'\"'\\n'\"'\"');f.close();exec(compile(code, __file__, '\"'\"'exec'\"'\"'))' bdist_wheel -d 'C:\\Users\\Luke\\AppData\\Local\\Temp\\pip-wheel-7ndnj7ye'\n",
      "       cwd: C:\\Users\\Luke\\AppData\\Local\\Temp\\pip-install-rqr3bb31\\pyradiomics_85fcc75de6554bab8256e11994468134\\\n",
      "  Complete output (34 lines):\n",
      "  T:\\Users\\Luke\\anaconda3\\lib\\site-packages\\setuptools\\dist.py:461: UserWarning: Normalizing 'v3.0.1' to '3.0.1'\n",
      "    warnings.warn(tmpl.format(**locals()))\n",
      "  running bdist_wheel\n",
      "  running build\n",
      "  running build_py\n",
      "  creating build\n",
      "  creating build\\lib.win-amd64-3.8\n",
      "  creating build\\lib.win-amd64-3.8\\radiomics\n",
      "  copying radiomics\\base.py -> build\\lib.win-amd64-3.8\\radiomics\n",
      "  copying radiomics\\featureextractor.py -> build\\lib.win-amd64-3.8\\radiomics\n",
      "  copying radiomics\\firstorder.py -> build\\lib.win-amd64-3.8\\radiomics\n",
      "  copying radiomics\\generalinfo.py -> build\\lib.win-amd64-3.8\\radiomics\n",
      "  copying radiomics\\glcm.py -> build\\lib.win-amd64-3.8\\radiomics\n",
      "  copying radiomics\\gldm.py -> build\\lib.win-amd64-3.8\\radiomics\n",
      "  copying radiomics\\glrlm.py -> build\\lib.win-amd64-3.8\\radiomics\n",
      "  copying radiomics\\glszm.py -> build\\lib.win-amd64-3.8\\radiomics\n",
      "  copying radiomics\\imageoperations.py -> build\\lib.win-amd64-3.8\\radiomics\n",
      "  copying radiomics\\ngtdm.py -> build\\lib.win-amd64-3.8\\radiomics\n",
      "  copying radiomics\\shape.py -> build\\lib.win-amd64-3.8\\radiomics\n",
      "  copying radiomics\\shape2D.py -> build\\lib.win-amd64-3.8\\radiomics\n",
      "  copying radiomics\\_version.py -> build\\lib.win-amd64-3.8\\radiomics\n",
      "  copying radiomics\\__init__.py -> build\\lib.win-amd64-3.8\\radiomics\n",
      "  creating build\\lib.win-amd64-3.8\\radiomics\\scripts\n",
      "  copying radiomics\\scripts\\segment.py -> build\\lib.win-amd64-3.8\\radiomics\\scripts\n",
      "  copying radiomics\\scripts\\voxel.py -> build\\lib.win-amd64-3.8\\radiomics\\scripts\n",
      "  copying radiomics\\scripts\\__init__.py -> build\\lib.win-amd64-3.8\\radiomics\\scripts\n",
      "  creating build\\lib.win-amd64-3.8\\radiomics\\schemas\n",
      "  copying radiomics\\schemas\\paramSchema.yaml -> build\\lib.win-amd64-3.8\\radiomics\\schemas\n",
      "  copying radiomics\\schemas\\schemaFuncs.py -> build\\lib.win-amd64-3.8\\radiomics\\schemas\n",
      "  UPDATING build\\lib.win-amd64-3.8\\radiomics/_version.py\n",
      "  set build\\lib.win-amd64-3.8\\radiomics/_version.py to 'v3.0.1'\n",
      "  running build_ext\n",
      "  building 'radiomics._cmatrices' extension\n",
      "  error: Microsoft Visual C++ 14.0 or greater is required. Get it with \"Microsoft C++ Build Tools\": https://visualstudio.microsoft.com/visual-cpp-build-tools/\n",
      "  ----------------------------------------\n",
      "  ERROR: Failed building wheel for pyradiomics\n",
      "    ERROR: Command errored out with exit status 1:\n",
      "     command: 'T:\\Users\\Luke\\anaconda3\\python.exe' -u -c 'import sys, setuptools, tokenize; sys.argv[0] = '\"'\"'C:\\\\Users\\\\Luke\\\\AppData\\\\Local\\\\Temp\\\\pip-install-rqr3bb31\\\\pyradiomics_85fcc75de6554bab8256e11994468134\\\\setup.py'\"'\"'; __file__='\"'\"'C:\\\\Users\\\\Luke\\\\AppData\\\\Local\\\\Temp\\\\pip-install-rqr3bb31\\\\pyradiomics_85fcc75de6554bab8256e11994468134\\\\setup.py'\"'\"';f=getattr(tokenize, '\"'\"'open'\"'\"', open)(__file__);code=f.read().replace('\"'\"'\\r\\n'\"'\"', '\"'\"'\\n'\"'\"');f.close();exec(compile(code, __file__, '\"'\"'exec'\"'\"'))' install --record 'C:\\Users\\Luke\\AppData\\Local\\Temp\\pip-record-pb0u8xd1\\install-record.txt' --single-version-externally-managed --compile --install-headers 'T:\\Users\\Luke\\anaconda3\\Include\\pyradiomics'\n",
      "         cwd: C:\\Users\\Luke\\AppData\\Local\\Temp\\pip-install-rqr3bb31\\pyradiomics_85fcc75de6554bab8256e11994468134\\\n",
      "    Complete output (34 lines):\n",
      "    T:\\Users\\Luke\\anaconda3\\lib\\site-packages\\setuptools\\dist.py:461: UserWarning: Normalizing 'v3.0.1' to '3.0.1'\n",
      "      warnings.warn(tmpl.format(**locals()))\n",
      "    running install\n",
      "    running build\n",
      "    running build_py\n",
      "    creating build\n",
      "    creating build\\lib.win-amd64-3.8\n",
      "    creating build\\lib.win-amd64-3.8\\radiomics\n",
      "    copying radiomics\\base.py -> build\\lib.win-amd64-3.8\\radiomics\n",
      "    copying radiomics\\featureextractor.py -> build\\lib.win-amd64-3.8\\radiomics\n",
      "    copying radiomics\\firstorder.py -> build\\lib.win-amd64-3.8\\radiomics\n",
      "    copying radiomics\\generalinfo.py -> build\\lib.win-amd64-3.8\\radiomics\n",
      "    copying radiomics\\glcm.py -> build\\lib.win-amd64-3.8\\radiomics\n",
      "    copying radiomics\\gldm.py -> build\\lib.win-amd64-3.8\\radiomics\n",
      "    copying radiomics\\glrlm.py -> build\\lib.win-amd64-3.8\\radiomics\n",
      "    copying radiomics\\glszm.py -> build\\lib.win-amd64-3.8\\radiomics\n",
      "    copying radiomics\\imageoperations.py -> build\\lib.win-amd64-3.8\\radiomics\n",
      "    copying radiomics\\ngtdm.py -> build\\lib.win-amd64-3.8\\radiomics\n",
      "    copying radiomics\\shape.py -> build\\lib.win-amd64-3.8\\radiomics\n",
      "    copying radiomics\\shape2D.py -> build\\lib.win-amd64-3.8\\radiomics\n",
      "    copying radiomics\\_version.py -> build\\lib.win-amd64-3.8\\radiomics\n",
      "    copying radiomics\\__init__.py -> build\\lib.win-amd64-3.8\\radiomics\n",
      "    creating build\\lib.win-amd64-3.8\\radiomics\\scripts\n",
      "    copying radiomics\\scripts\\segment.py -> build\\lib.win-amd64-3.8\\radiomics\\scripts\n",
      "    copying radiomics\\scripts\\voxel.py -> build\\lib.win-amd64-3.8\\radiomics\\scripts\n",
      "    copying radiomics\\scripts\\__init__.py -> build\\lib.win-amd64-3.8\\radiomics\\scripts\n",
      "    creating build\\lib.win-amd64-3.8\\radiomics\\schemas\n",
      "    copying radiomics\\schemas\\paramSchema.yaml -> build\\lib.win-amd64-3.8\\radiomics\\schemas\n",
      "    copying radiomics\\schemas\\schemaFuncs.py -> build\\lib.win-amd64-3.8\\radiomics\\schemas\n",
      "    UPDATING build\\lib.win-amd64-3.8\\radiomics/_version.py\n",
      "    set build\\lib.win-amd64-3.8\\radiomics/_version.py to 'v3.0.1'\n",
      "    running build_ext\n",
      "    building 'radiomics._cmatrices' extension\n",
      "    error: Microsoft Visual C++ 14.0 or greater is required. Get it with \"Microsoft C++ Build Tools\": https://visualstudio.microsoft.com/visual-cpp-build-tools/\n",
      "    ----------------------------------------\n",
      "ERROR: Command errored out with exit status 1: 'T:\\Users\\Luke\\anaconda3\\python.exe' -u -c 'import sys, setuptools, tokenize; sys.argv[0] = '\"'\"'C:\\\\Users\\\\Luke\\\\AppData\\\\Local\\\\Temp\\\\pip-install-rqr3bb31\\\\pyradiomics_85fcc75de6554bab8256e11994468134\\\\setup.py'\"'\"'; __file__='\"'\"'C:\\\\Users\\\\Luke\\\\AppData\\\\Local\\\\Temp\\\\pip-install-rqr3bb31\\\\pyradiomics_85fcc75de6554bab8256e11994468134\\\\setup.py'\"'\"';f=getattr(tokenize, '\"'\"'open'\"'\"', open)(__file__);code=f.read().replace('\"'\"'\\r\\n'\"'\"', '\"'\"'\\n'\"'\"');f.close();exec(compile(code, __file__, '\"'\"'exec'\"'\"'))' install --record 'C:\\Users\\Luke\\AppData\\Local\\Temp\\pip-record-pb0u8xd1\\install-record.txt' --single-version-externally-managed --compile --install-headers 'T:\\Users\\Luke\\anaconda3\\Include\\pyradiomics' Check the logs for full command output.\n"
     ]
    }
   ],
   "source": [
    "# install PyRadiomics if not installed already\n",
    "!pip install pyradiomics"
   ]
  },
  {
   "cell_type": "code",
   "execution_count": null,
   "metadata": {
    "id": "eZ8EJ3IUIhx-"
   },
   "outputs": [],
   "source": [
    "# importing libraries\n",
    "from __future__ import print_function\n",
    "import sys\n",
    "import os\n",
    "import collections\n",
    "import SimpleITK as sitk\n",
    "from SimpleITK.SimpleITK import JoinSeries\n",
    "import logging\n",
    "import six\n",
    "import radiomics\n",
    "from radiomics import featureextractor, getFeatureClasses, getTestCase, firstorder, glcm, imageoperations, shape, glrlm, glszm\n",
    "import numpy as np\n",
    "import pandas as pd\n",
    "import seaborn as sns\n",
    "import zipfile\n",
    "import PIL\n",
    "from PIL import Image"
   ]
  },
  {
   "cell_type": "code",
   "execution_count": null,
   "metadata": {
    "id": "k3KUa65nOrEk"
   },
   "outputs": [],
   "source": [
    "!wget --no-check-certificate \\\n",
    "    \"https://github.com/lukevrobbins/covid_19_severity_prediction/archive/refs/heads/Justin.zip\" \\\n",
    "    -O \"/tmp/chest-x-rays.zip\"\n",
    "\n",
    "zip_ref = zipfile.ZipFile('/tmp/chest-x-rays.zip', 'r') # Opens the zip file in read mode\n",
    "zip_ref.extractall('/tmp') # Extracts the files into the /tmp folder\n",
    "zip_ref.close()\n"
   ]
  },
  {
   "cell_type": "code",
   "execution_count": 110,
   "metadata": {
    "colab": {
     "base_uri": "https://localhost:8080/"
    },
    "id": "hEXtipUKMBML",
    "outputId": "0683fa28-391f-45cd-e3b7-ed20cc35a7f1"
   },
   "outputs": [
    {
     "name": "stdout",
     "output_type": "stream",
     "text": [
      "Extraction parameters:\n",
      "\t {'minimumROIDimensions': 2, 'minimumROISize': None, 'normalize': False, 'normalizeScale': 1, 'removeOutliers': None, 'resampledPixelSpacing': None, 'interpolator': 'sitkBSpline', 'preCrop': False, 'padDistance': 5, 'distances': [1], 'force2D': False, 'force2Ddimension': 0, 'resegmentRange': None, 'label': 255, 'additionalInfo': True}\n",
      "\n",
      "Enabled filters:\n",
      "\t {'Original': {}, 'LoG': {}}\n",
      "\n",
      "Enabled features:\n",
      "\t {'firstorder': [], 'glcm': [], 'gldm': [], 'glrlm': [], 'glszm': [], 'ngtdm': [], 'shape': [], 'shape2D': []}\n"
     ]
    }
   ],
   "source": [
    "# First define the settings of extractor\n",
    "settings = {}\n",
    "settings['label'] = 255\n",
    "#settings['binWidth'] = 25\n",
    "#settings['resampledPixelSpacing'] = None\n",
    "#settings['resampledPixelSpacing'] = [3, 3, 3]  # This is an example for defining resampling (voxels with size 3x3x3mm)\n",
    "#settings['interpolator'] = 'sitkBSpline'\n",
    "#settings['verbose'] = True\n",
    "extractor = featureextractor.RadiomicsFeatureExtractor(**settings)\n",
    "print('Extraction parameters:\\n\\t', extractor.settings)\n",
    "\n",
    "# Enable a filter (in addition to the 'Original' filter already enabled)\n",
    "extractor.enableImageTypeByName('LoG')\n",
    "print('')\n",
    "print('Enabled filters:\\n\\t', extractor.enabledImagetypes)\n",
    "\n",
    "# Specify feature classes, all are enabled by default\n",
    "extractor.disableAllFeatures()\n",
    "extractor.enableAllFeatures()\n",
    "#extractor.enableFeatureClassByName('firstorder')\n",
    "\n",
    "# Specify some additional features in the GLCM feature class\n",
    "#extractor.enableFeaturesByName(glcm=['Autocorrelation', 'Homogeneity1', 'SumSquares'])\n",
    "print('')\n",
    "print('Enabled features:\\n\\t', extractor.enabledFeatures)\n"
   ]
  },
  {
   "cell_type": "code",
   "execution_count": 112,
   "metadata": {
    "colab": {
     "base_uri": "https://localhost:8080/",
     "height": 276
    },
    "id": "IlmLS0jlLcPK",
    "outputId": "f2bdd48d-716d-4c55-b39a-9ad8f1ff9447"
   },
   "outputs": [
    {
     "name": "stdout",
     "output_type": "stream",
     "text": [
      "dataDir, relative path: /tmp/Chest X-ray Image Data sets\n",
      "dataDir, absolute path: /tmp/Chest X-ray Image Data sets\n"
     ]
    },
    {
     "ename": "FileNotFoundError",
     "evalue": "ignored",
     "output_type": "error",
     "traceback": [
      "\u001b[0;31m---------------------------------------------------------------------------\u001b[0m",
      "\u001b[0;31mFileNotFoundError\u001b[0m                         Traceback (most recent call last)",
      "\u001b[0;32m<ipython-input-112-b999101d1a8f>\u001b[0m in \u001b[0;36m<module>\u001b[0;34m()\u001b[0m\n\u001b[1;32m      4\u001b[0m \u001b[0;34m\u001b[0m\u001b[0m\n\u001b[1;32m      5\u001b[0m \u001b[0mcount\u001b[0m \u001b[0;34m=\u001b[0m \u001b[0;36m1\u001b[0m\u001b[0;34m\u001b[0m\u001b[0;34m\u001b[0m\u001b[0m\n\u001b[0;32m----> 6\u001b[0;31m \u001b[0;32mfor\u001b[0m \u001b[0mfile\u001b[0m \u001b[0;32min\u001b[0m \u001b[0mos\u001b[0m\u001b[0;34m.\u001b[0m\u001b[0mlistdir\u001b[0m\u001b[0;34m(\u001b[0m\u001b[0mdataDir\u001b[0m\u001b[0;34m)\u001b[0m\u001b[0;34m:\u001b[0m\u001b[0;34m\u001b[0m\u001b[0;34m\u001b[0m\u001b[0m\n\u001b[0m\u001b[1;32m      7\u001b[0m   \u001b[0;32mif\u001b[0m\u001b[0;34m(\u001b[0m\u001b[0mcount\u001b[0m \u001b[0;34m>\u001b[0m \u001b[0mlen\u001b[0m\u001b[0;34m(\u001b[0m\u001b[0mos\u001b[0m\u001b[0;34m.\u001b[0m\u001b[0mlistdir\u001b[0m\u001b[0;34m(\u001b[0m\u001b[0mdataDir\u001b[0m\u001b[0;34m)\u001b[0m\u001b[0;34m)\u001b[0m\u001b[0;34m/\u001b[0m\u001b[0;36m2\u001b[0m\u001b[0;34m)\u001b[0m\u001b[0;34m:\u001b[0m\u001b[0;34m\u001b[0m\u001b[0;34m\u001b[0m\u001b[0m\n\u001b[1;32m      8\u001b[0m     \u001b[0;32mbreak\u001b[0m\u001b[0;34m\u001b[0m\u001b[0;34m\u001b[0m\u001b[0m\n",
      "\u001b[0;31mFileNotFoundError\u001b[0m: [Errno 2] No such file or directory: '/tmp/Chest X-ray Image Data sets'"
     ]
    }
   ],
   "source": [
    "dataDir = os.path.join('/tmp/Chest X-ray Image Data sets')\n",
    "print(\"dataDir, relative path:\", dataDir)\n",
    "print(\"dataDir, absolute path:\", os.path.abspath(dataDir))\n",
    "\n",
    "count = 1\n",
    "for file in os.listdir(dataDir):\n",
    "  if(count > len(os.listdir(dataDir))/2):\n",
    "    break\n",
    "  # Define the testcase name\n",
    "  CXR_name = str(count)\n",
    "  # Resizing images to 256 x 256\n",
    "  for file in os.listdir(dataDir):\n",
    "    f_img = dataDir + \"/\" + file\n",
    "    img = Image.open(f_img)\n",
    "    img = img.resize((256,256))\n",
    "    img.save(f_img)\n",
    "  # Store the file paths of our testing image and label map into two variables\n",
    "  imagePath = os.path.join(dataDir, CXR_name + \".jpg\")\n",
    "  maskPath = os.path.join(dataDir, CXR_name + \"-mask.png\")\n",
    "  # Transforming into \"3D\" image for pyradiomics\n",
    "  image = sitk.ReadImage(imagePath, sitk.sitkInt16)\n",
    "  image3d = sitk.JoinSeries(image)\n",
    "  mask = sitk.ReadImage(maskPath, sitk.sitkInt16)\n",
    "  mask3d = sitk.JoinSeries(mask)\n",
    "\n",
    "  # Extract features\n",
    "  result = extractor.execute(image3d, mask3d)\n",
    "  print('----------------------------------------------------------------------------------------------------------------------------------------------------------------------------------------------------------------------------------------------')\n",
    "  print('Features extracted for image ' + str(count))\n",
    "  print('Result type:', type(result))  # result is returned in a Python ordered dictionary\n",
    "  print('')\n",
    "  print('Calculated features')\n",
    "  for key, value in six.iteritems(result):\n",
    "      print('\\t', key, ':', value)\n",
    "  count = count + 1\n",
    "\n",
    "    "
   ]
  },
  {
   "cell_type": "code",
   "execution_count": 108,
   "metadata": {
    "id": "BwlcNedUpKso"
   },
   "outputs": [],
   "source": [
    "from google.colab import files\n",
    "import pandas as pd\n",
    "import csv\n",
    "# test if the \n",
    "field_value= []\n",
    "field_names= []\n",
    "for key,value in six.iteritems(result):\n",
    "    field_names.append(key)\n",
    "    field_value.append(value)\n",
    "with open(\"frequencies.csv\", \"w\") as outfile:\n",
    "    csvwriter = csv.writer(outfile)\n",
    "    csvwriter.writerow(field_names)\n",
    "    csvwriter.writerow(field_value)"
   ]
  }
 ],
 "metadata": {
  "colab": {
   "collapsed_sections": [],
   "include_colab_link": true,
   "name": "Feature Extraction.ipynb",
   "provenance": []
  },
  "kernelspec": {
   "display_name": "Python 3",
   "language": "python",
   "name": "python3"
  },
  "language_info": {
   "codemirror_mode": {
    "name": "ipython",
    "version": 3
   },
   "file_extension": ".py",
   "mimetype": "text/x-python",
   "name": "python",
   "nbconvert_exporter": "python",
   "pygments_lexer": "ipython3",
   "version": "3.8.8"
  }
 },
 "nbformat": 4,
 "nbformat_minor": 1
}
