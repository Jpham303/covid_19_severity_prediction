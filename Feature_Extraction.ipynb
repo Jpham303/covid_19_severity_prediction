{
  "cells": [
    {
      "cell_type": "markdown",
      "metadata": {
        "id": "view-in-github",
        "colab_type": "text"
      },
      "source": [
        "<a href=\"https://colab.research.google.com/github/lukevrobbins/covid_19_severity_prediction/blob/main/Feature_Extraction.ipynb\" target=\"_parent\"><img src=\"https://colab.research.google.com/assets/colab-badge.svg\" alt=\"Open In Colab\"/></a>"
      ]
    },
    {
      "cell_type": "code",
      "execution_count": null,
      "metadata": {
        "id": "ub9I-7MnITRo",
        "colab": {
          "base_uri": "https://localhost:8080/"
        },
        "outputId": "df5574ce-e62f-499e-b65e-a8a3e750377a"
      },
      "outputs": [
        {
          "output_type": "stream",
          "name": "stdout",
          "text": [
            "Collecting pyradiomics\n",
            "  Downloading pyradiomics-3.0.1-cp37-cp37m-manylinux1_x86_64.whl (188 kB)\n",
            "\u001b[?25l\r\u001b[K     |█▊                              | 10 kB 18.3 MB/s eta 0:00:01\r\u001b[K     |███▌                            | 20 kB 9.6 MB/s eta 0:00:01\r\u001b[K     |█████▏                          | 30 kB 7.6 MB/s eta 0:00:01\r\u001b[K     |███████                         | 40 kB 7.1 MB/s eta 0:00:01\r\u001b[K     |████████▊                       | 51 kB 3.6 MB/s eta 0:00:01\r\u001b[K     |██████████▍                     | 61 kB 4.2 MB/s eta 0:00:01\r\u001b[K     |████████████▏                   | 71 kB 4.5 MB/s eta 0:00:01\r\u001b[K     |██████████████                  | 81 kB 3.5 MB/s eta 0:00:01\r\u001b[K     |███████████████▋                | 92 kB 3.9 MB/s eta 0:00:01\r\u001b[K     |█████████████████▍              | 102 kB 4.3 MB/s eta 0:00:01\r\u001b[K     |███████████████████▏            | 112 kB 4.3 MB/s eta 0:00:01\r\u001b[K     |████████████████████▉           | 122 kB 4.3 MB/s eta 0:00:01\r\u001b[K     |██████████████████████▋         | 133 kB 4.3 MB/s eta 0:00:01\r\u001b[K     |████████████████████████▍       | 143 kB 4.3 MB/s eta 0:00:01\r\u001b[K     |██████████████████████████      | 153 kB 4.3 MB/s eta 0:00:01\r\u001b[K     |███████████████████████████▉    | 163 kB 4.3 MB/s eta 0:00:01\r\u001b[K     |█████████████████████████████▋  | 174 kB 4.3 MB/s eta 0:00:01\r\u001b[K     |███████████████████████████████▎| 184 kB 4.3 MB/s eta 0:00:01\r\u001b[K     |████████████████████████████████| 188 kB 4.3 MB/s \n",
            "\u001b[?25hCollecting pykwalify>=1.6.0\n",
            "  Downloading pykwalify-1.8.0-py2.py3-none-any.whl (24 kB)\n",
            "Collecting SimpleITK>=0.9.1\n",
            "  Downloading SimpleITK-2.1.1-cp37-cp37m-manylinux_2_12_x86_64.manylinux2010_x86_64.whl (48.4 MB)\n",
            "\u001b[K     |████████████████████████████████| 48.4 MB 19 kB/s \n",
            "\u001b[?25hRequirement already satisfied: PyWavelets>=0.4.0 in /usr/local/lib/python3.7/dist-packages (from pyradiomics) (1.2.0)\n",
            "Requirement already satisfied: numpy>=1.9.2 in /usr/local/lib/python3.7/dist-packages (from pyradiomics) (1.21.5)\n",
            "Requirement already satisfied: six>=1.10.0 in /usr/local/lib/python3.7/dist-packages (from pyradiomics) (1.15.0)\n",
            "Collecting ruamel.yaml>=0.16.0\n",
            "  Downloading ruamel.yaml-0.17.21-py3-none-any.whl (109 kB)\n",
            "\u001b[K     |████████████████████████████████| 109 kB 44.6 MB/s \n",
            "\u001b[?25hRequirement already satisfied: python-dateutil>=2.8.0 in /usr/local/lib/python3.7/dist-packages (from pykwalify>=1.6.0->pyradiomics) (2.8.2)\n",
            "Requirement already satisfied: docopt>=0.6.2 in /usr/local/lib/python3.7/dist-packages (from pykwalify>=1.6.0->pyradiomics) (0.6.2)\n",
            "Collecting ruamel.yaml.clib>=0.2.6\n",
            "  Downloading ruamel.yaml.clib-0.2.6-cp37-cp37m-manylinux1_x86_64.whl (546 kB)\n",
            "\u001b[K     |████████████████████████████████| 546 kB 54.0 MB/s \n",
            "\u001b[?25hInstalling collected packages: ruamel.yaml.clib, ruamel.yaml, SimpleITK, pykwalify, pyradiomics\n",
            "Successfully installed SimpleITK-2.1.1 pykwalify-1.8.0 pyradiomics-3.0.1 ruamel.yaml-0.17.21 ruamel.yaml.clib-0.2.6\n"
          ]
        }
      ],
      "source": [
        "# install PyRadiomics if not installed already\n",
        "!pip install pyradiomics"
      ]
    },
    {
      "cell_type": "code",
      "execution_count": null,
      "metadata": {
        "id": "eZ8EJ3IUIhx-"
      },
      "outputs": [],
      "source": [
        "# importing libraries\n",
        "from __future__ import print_function\n",
        "import sys\n",
        "import os\n",
        "import collections\n",
        "import SimpleITK as sitk\n",
        "from SimpleITK.SimpleITK import JoinSeries\n",
        "import logging\n",
        "import six\n",
        "import radiomics\n",
        "from radiomics import featureextractor, getFeatureClasses, getTestCase, firstorder, glcm, imageoperations, shape, glrlm, glszm\n",
        "import numpy as np\n",
        "import pandas as pd\n",
        "import seaborn as sns\n",
        "import zipfile\n",
        "import PIL\n",
        "from PIL import Image"
      ]
    },
    {
      "cell_type": "code",
      "source": [
        "!wget --no-check-certificate \\\n",
        "    \"https://github.com/lukevrobbins/covid_19_severity_prediction/archive/refs/heads/Justin.zip\" \\\n",
        "    -O \"/tmp/chest-x-rays.zip\"\n",
        "\n",
        "zip_ref = zipfile.ZipFile('/tmp/chest-x-rays.zip', 'r') # Opens the zip file in read mode\n",
        "zip_ref.extractall('/tmp') # Extracts the files into the /tmp folder\n",
        "zip_ref.close()\n"
      ],
      "metadata": {
        "colab": {
          "base_uri": "https://localhost:8080/"
        },
        "id": "k3KUa65nOrEk",
        "outputId": "0db838a6-beee-4f51-f15f-3ee681e883f3"
      },
      "execution_count": null,
      "outputs": [
        {
          "output_type": "stream",
          "name": "stdout",
          "text": [
            "--2022-02-25 18:31:35--  https://github.com/lukevrobbins/covid_19_severity_prediction/archive/refs/heads/Justin.zip\n",
            "Resolving github.com (github.com)... 13.114.40.48\n",
            "Connecting to github.com (github.com)|13.114.40.48|:443... connected.\n",
            "HTTP request sent, awaiting response... 302 Found\n",
            "Location: https://codeload.github.com/lukevrobbins/covid_19_severity_prediction/zip/refs/heads/Justin [following]\n",
            "--2022-02-25 18:31:36--  https://codeload.github.com/lukevrobbins/covid_19_severity_prediction/zip/refs/heads/Justin\n",
            "Resolving codeload.github.com (codeload.github.com)... 52.193.111.178\n",
            "Connecting to codeload.github.com (codeload.github.com)|52.193.111.178|:443... connected.\n",
            "HTTP request sent, awaiting response... 200 OK\n",
            "Length: unspecified [application/zip]\n",
            "Saving to: ‘/tmp/chest-x-rays.zip’\n",
            "\n",
            "/tmp/chest-x-rays.z     [  <=>               ]   2.03M  7.88MB/s    in 0.3s    \n",
            "\n",
            "2022-02-25 18:31:37 (7.88 MB/s) - ‘/tmp/chest-x-rays.zip’ saved [2124428]\n",
            "\n"
          ]
        }
      ]
    },
    {
      "cell_type": "code",
      "source": [
        "# Define the testcase name\n",
        "testCase = \"1\"\n",
        "\n",
        "# Get the relative path to pyradiomics\\data\n",
        "# os.cwd() returns the current working directory\n",
        "# \"..\" points to the parent directory: \\pyradiomics\\bin\\Notebooks\\..\\ is equal to \\pyradiomics\\bin\\\n",
        "# Move up 2 directories (i.e. go to \\pyradiomics\\) and then move into \\pyradiomics\\data\n",
        "\n",
        "dataDir = os.path.join('/tmp/covid_19_severity_prediction-Justin/Chest X-ray Image Data sets')\n",
        "print(\"dataDir, relative path:\", dataDir)\n",
        "print(\"dataDir, absolute path:\", os.path.abspath(dataDir))\n",
        "\n",
        "# Resizing images to 256 x 256\n",
        "for file in os.listdir(dataDir):\n",
        "    f_img = dataDir + \"/\" + file\n",
        "    img = Image.open(f_img)\n",
        "    img = img.resize((256,256))\n",
        "    img.save(f_img)\n",
        "\n",
        "# Store the file paths of our testing image and label map into two variables\n",
        "imagePath = os.path.join(dataDir, testCase + \".jpg\")\n",
        "maskPath = os.path.join(dataDir, testCase + \"-mask.png\")\n",
        "\n",
        "# Transforming into \"3D\" image for pyradiomics\n",
        "image = sitk.ReadImage(imagePath)\n",
        "image3d = sitk.JoinSeries(image)\n",
        "mask = sitk.ReadImage(maskPath)\n",
        "mask3d = sitk.JoinSeries(mask)\n"
      ],
      "metadata": {
        "colab": {
          "base_uri": "https://localhost:8080/"
        },
        "id": "1KiCLABTM5lb",
        "outputId": "d42ff337-38ef-4f5c-a86b-a6453b45d0e2"
      },
      "execution_count": null,
      "outputs": [
        {
          "output_type": "stream",
          "name": "stdout",
          "text": [
            "dataDir, relative path: /tmp/covid_19_severity_prediction-Justin/Chest X-ray Image Data sets\n",
            "dataDir, absolute path: /tmp/covid_19_severity_prediction-Justin/Chest X-ray Image Data sets\n"
          ]
        }
      ]
    },
    {
      "cell_type": "code",
      "execution_count": null,
      "metadata": {
        "colab": {
          "base_uri": "https://localhost:8080/"
        },
        "id": "hEXtipUKMBML",
        "outputId": "87f65cdc-2daf-407d-811c-ef0653300e6e"
      },
      "outputs": [
        {
          "output_type": "stream",
          "name": "stdout",
          "text": [
            "Extraction parameters:\n",
            "\t {'minimumROIDimensions': 2, 'minimumROISize': None, 'normalize': False, 'normalizeScale': 1, 'removeOutliers': None, 'resampledPixelSpacing': None, 'interpolator': 'sitkBSpline', 'preCrop': False, 'padDistance': 5, 'distances': [1], 'force2D': False, 'force2Ddimension': 0, 'resegmentRange': None, 'label': 1, 'additionalInfo': True}\n",
            "\n",
            "Enabled filters:\n",
            "\t {'Original': {}, 'LoG': {}}\n",
            "\n",
            "Enabled features:\n",
            "\t {'firstorder': [], 'glcm': [], 'gldm': [], 'glrlm': [], 'glszm': [], 'ngtdm': [], 'shape': [], 'shape2D': []}\n"
          ]
        }
      ],
      "source": [
        "# First define the settings of extractor\n",
        "settings = {}\n",
        "#settings['binWidth'] = 25\n",
        "#settings['resampledPixelSpacing'] = None\n",
        "#settings['resampledPixelSpacing'] = [3, 3, 3]  # This is an example for defining resampling (voxels with size 3x3x3mm)\n",
        "#settings['interpolator'] = 'sitkBSpline'\n",
        "#settings['verbose'] = True\n",
        "extractor = featureextractor.RadiomicsFeatureExtractor(**settings)\n",
        "print('Extraction parameters:\\n\\t', extractor.settings)\n",
        "\n",
        "# Enable a filter (in addition to the 'Original' filter already enabled)\n",
        "extractor.enableImageTypeByName('LoG')\n",
        "print('')\n",
        "print('Enabled filters:\\n\\t', extractor.enabledImagetypes)\n",
        "\n",
        "# Specify feature classes, all are enabled by default\n",
        "extractor.disableAllFeatures()\n",
        "extractor.enableAllFeatures()\n",
        "#extractor.enableFeatureClassByName('firstorder')\n",
        "\n",
        "# Specify some additional features in the GLCM feature class\n",
        "#extractor.enableFeaturesByName(glcm=['Autocorrelation', 'Homogeneity1', 'SumSquares'])\n",
        "print('')\n",
        "print('Enabled features:\\n\\t', extractor.enabledFeatures)\n"
      ]
    },
    {
      "cell_type": "code",
      "execution_count": null,
      "metadata": {
        "id": "4x5RQyWCOCQM",
        "outputId": "4b0a2106-ccec-43d6-ba84-c6bb6c0f172e",
        "colab": {
          "base_uri": "https://localhost:8080/"
        }
      },
      "outputs": [
        {
          "output_type": "stream",
          "name": "stderr",
          "text": [
            "parameter force2D must be set to True to enable shape2D extraction\n",
            "/usr/local/lib/python3.7/dist-packages/radiomics/glcm.py:258: RuntimeWarning: Mean of empty slice\n",
            "  return numpy.nanmean(ac, 1)\n",
            "/usr/local/lib/python3.7/dist-packages/radiomics/glcm.py:294: RuntimeWarning: Mean of empty slice\n",
            "  return numpy.nanmean(cp, 1)\n",
            "/usr/local/lib/python3.7/dist-packages/radiomics/glcm.py:312: RuntimeWarning: Mean of empty slice\n",
            "  return numpy.nanmean(cs, 1)\n",
            "/usr/local/lib/python3.7/dist-packages/radiomics/glcm.py:329: RuntimeWarning: Mean of empty slice\n",
            "  return numpy.nanmean(ct, 1)\n",
            "/usr/local/lib/python3.7/dist-packages/radiomics/glcm.py:344: RuntimeWarning: Mean of empty slice\n",
            "  return numpy.nanmean(cont, 1)\n",
            "/usr/local/lib/python3.7/dist-packages/radiomics/glcm.py:374: RuntimeWarning: Mean of empty slice\n",
            "  return numpy.nanmean(corr, (1, 2, 3))\n",
            "/usr/local/lib/python3.7/dist-packages/radiomics/glcm.py:390: RuntimeWarning: Mean of empty slice\n",
            "  return numpy.nanmean(diffavg, 1)\n",
            "/usr/local/lib/python3.7/dist-packages/radiomics/glcm.py:405: RuntimeWarning: Mean of empty slice\n",
            "  return numpy.nanmean(difent, 1)\n",
            "/usr/local/lib/python3.7/dist-packages/radiomics/glcm.py:421: RuntimeWarning: Mean of empty slice\n",
            "  return numpy.nanmean(diffvar, 1)\n",
            "/usr/local/lib/python3.7/dist-packages/radiomics/glcm.py:691: RuntimeWarning: Mean of empty slice\n",
            "  return numpy.nanmean(invDiff, 1)\n",
            "/usr/local/lib/python3.7/dist-packages/radiomics/glcm.py:618: RuntimeWarning: Mean of empty slice\n",
            "  return numpy.nanmean(idm, 1)\n",
            "/usr/local/lib/python3.7/dist-packages/radiomics/glcm.py:676: RuntimeWarning: Mean of empty slice\n",
            "  return numpy.nanmean(idmn, 1)\n",
            "/usr/local/lib/python3.7/dist-packages/radiomics/glcm.py:709: RuntimeWarning: Mean of empty slice\n",
            "  return numpy.nanmean(idn, 1)\n",
            "/usr/local/lib/python3.7/dist-packages/radiomics/glcm.py:567: RuntimeWarning: Mean of empty slice\n",
            "  return numpy.nanmean(imc1, 1)\n",
            "/usr/local/lib/python3.7/dist-packages/radiomics/glcm.py:602: RuntimeWarning: Mean of empty slice\n",
            "  return numpy.nanmean(imc2, 1)\n",
            "/usr/local/lib/python3.7/dist-packages/radiomics/glcm.py:723: RuntimeWarning: Mean of empty slice\n",
            "  return numpy.nanmean(inv, 1)\n",
            "/usr/local/lib/python3.7/dist-packages/radiomics/glcm.py:276: RuntimeWarning: Mean of empty slice.\n",
            "  return self.coefficients['ux'].mean((1, 2, 3))\n",
            "/usr/local/lib/python3.7/dist-packages/numpy/core/_methods.py:182: RuntimeWarning: invalid value encountered in true_divide\n",
            "  ret, rcount, out=ret, casting='unsafe', subok=False)\n",
            "/usr/local/lib/python3.7/dist-packages/radiomics/glcm.py:457: RuntimeWarning: Mean of empty slice\n",
            "  return numpy.nanmean(ene, 1)\n",
            "/usr/local/lib/python3.7/dist-packages/radiomics/glcm.py:474: RuntimeWarning: Mean of empty slice\n",
            "  return numpy.nanmean(ent, 1)\n",
            "/usr/local/lib/python3.7/dist-packages/radiomics/glcm.py:656: RuntimeWarning: Mean of empty slice\n",
            "  return numpy.nanmean(MCC, 1).real\n",
            "/usr/local/lib/python3.7/dist-packages/radiomics/glcm.py:740: RuntimeWarning: Mean of empty slice\n",
            "  return numpy.nanmean(maxprob, 1)\n",
            "GLCM is symmetrical, therefore Sum Average = 2 * Joint Average, only 1 needs to be calculated\n",
            "/usr/local/lib/python3.7/dist-packages/radiomics/glcm.py:767: RuntimeWarning: Mean of empty slice\n",
            "  return numpy.nanmean(sumavg, 1)\n",
            "/usr/local/lib/python3.7/dist-packages/radiomics/glcm.py:799: RuntimeWarning: Mean of empty slice\n",
            "  return numpy.nanmean(sumentr, 1)\n",
            "/usr/local/lib/python3.7/dist-packages/radiomics/glcm.py:827: RuntimeWarning: Mean of empty slice\n",
            "  return numpy.nanmean(ss, 1)\n",
            "Image too small to apply LoG filter, size: [256 256   1]\n"
          ]
        },
        {
          "output_type": "stream",
          "name": "stdout",
          "text": [
            "Result type: <class 'collections.OrderedDict'>\n",
            "\n",
            "Calculated features\n",
            "\t diagnostics_Versions_PyRadiomics : v3.0.1\n",
            "\t diagnostics_Versions_Numpy : 1.21.5\n",
            "\t diagnostics_Versions_SimpleITK : 2.1.1\n",
            "\t diagnostics_Versions_PyWavelet : 1.2.0\n",
            "\t diagnostics_Versions_Python : 3.7.12\n",
            "\t diagnostics_Configuration_Settings : {'minimumROIDimensions': 2, 'minimumROISize': None, 'normalize': False, 'normalizeScale': 1, 'removeOutliers': None, 'resampledPixelSpacing': None, 'interpolator': 'sitkBSpline', 'preCrop': False, 'padDistance': 5, 'distances': [1], 'force2D': False, 'force2Ddimension': 0, 'resegmentRange': None, 'label': 1, 'additionalInfo': True}\n",
            "\t diagnostics_Configuration_EnabledImageTypes : {'Original': {}, 'LoG': {}}\n",
            "\t diagnostics_Image-original_Hash : 0aae883c2f350b3362b5b40383c88732e8afe37e\n",
            "\t diagnostics_Image-original_Dimensionality : 3D\n",
            "\t diagnostics_Image-original_Spacing : (1.0, 1.0, 1.0)\n",
            "\t diagnostics_Image-original_Size : (256, 256, 1)\n",
            "\t diagnostics_Image-original_Mean : 192.19032287597656\n",
            "\t diagnostics_Image-original_Minimum : 0.0\n",
            "\t diagnostics_Image-original_Maximum : 255.0\n",
            "\t diagnostics_Mask-original_Hash : 9fdaac6e93edab79e3d79a47235f858322fa751a\n",
            "\t diagnostics_Mask-original_Spacing : (1.0, 1.0, 1.0)\n",
            "\t diagnostics_Mask-original_Size : (256, 256, 1)\n",
            "\t diagnostics_Mask-original_BoundingBox : (28, 43, 0, 200, 159, 1)\n",
            "\t diagnostics_Mask-original_VoxelNum : 42\n",
            "\t diagnostics_Mask-original_VolumeNum : 42\n",
            "\t diagnostics_Mask-original_CenterOfMassIndex : (125.38095238095238, 116.66666666666667, 0.0)\n",
            "\t diagnostics_Mask-original_CenterOfMass : (125.38095238095238, 116.66666666666667, 0.0)\n",
            "\t original_shape_Elongation : 0.7346467203190158\n",
            "\t original_shape_Flatness : 0.0\n",
            "\t original_shape_LeastAxisLength : 0.0\n",
            "\t original_shape_MajorAxisLength : 248.13704794147262\n",
            "\t original_shape_Maximum2DDiameterColumn : 178.0\n",
            "\t original_shape_Maximum2DDiameterRow : 28.0\n",
            "\t original_shape_Maximum2DDiameterSlice : 230.63824487712353\n",
            "\t original_shape_Maximum3DDiameter : 230.63824487712353\n",
            "\t original_shape_MeshVolume : 7.0\n",
            "\t original_shape_MinorAxisLength : 182.29306845984524\n",
            "\t original_shape_Sphericity : 0.2432612309748876\n",
            "\t original_shape_SurfaceArea : 72.74613391789293\n",
            "\t original_shape_SurfaceVolumeRatio : 10.392304845413276\n",
            "\t original_shape_VoxelVolume : 42.0\n",
            "\t original_firstorder_10Percentile : 180.6\n",
            "\t original_firstorder_90Percentile : 223.7\n",
            "\t original_firstorder_Energy : 1745975.0\n",
            "\t original_firstorder_Entropy : 1.6511972890007969\n",
            "\t original_firstorder_InterquartileRange : 21.0\n",
            "\t original_firstorder_Kurtosis : 2.9484688274434485\n",
            "\t original_firstorder_Maximum : 235.0\n",
            "\t original_firstorder_MeanAbsoluteDeviation : 13.42857142857143\n",
            "\t original_firstorder_Mean : 203.16666666666666\n",
            "\t original_firstorder_Median : 205.5\n",
            "\t original_firstorder_Minimum : 162.0\n",
            "\t original_firstorder_Range : 73.0\n",
            "\t original_firstorder_RobustMeanAbsoluteDeviation : 8.03515625\n",
            "\t original_firstorder_RootMeanSquared : 203.88926733237662\n",
            "\t original_firstorder_Skewness : -0.31658469375785\n",
            "\t original_firstorder_TotalEnergy : 1745975.0\n",
            "\t original_firstorder_Uniformity : 0.3741496598639456\n",
            "\t original_firstorder_Variance : 294.1388888888889\n",
            "\t original_glcm_Autocorrelation : nan\n",
            "\t original_glcm_ClusterProminence : nan\n",
            "\t original_glcm_ClusterShade : nan\n",
            "\t original_glcm_ClusterTendency : nan\n",
            "\t original_glcm_Contrast : nan\n",
            "\t original_glcm_Correlation : nan\n",
            "\t original_glcm_DifferenceAverage : nan\n",
            "\t original_glcm_DifferenceEntropy : nan\n",
            "\t original_glcm_DifferenceVariance : nan\n",
            "\t original_glcm_Id : nan\n",
            "\t original_glcm_Idm : nan\n",
            "\t original_glcm_Idmn : nan\n",
            "\t original_glcm_Idn : nan\n",
            "\t original_glcm_Imc1 : nan\n",
            "\t original_glcm_Imc2 : nan\n",
            "\t original_glcm_InverseVariance : nan\n",
            "\t original_glcm_JointAverage : nan\n",
            "\t original_glcm_JointEnergy : nan\n",
            "\t original_glcm_JointEntropy : nan\n",
            "\t original_glcm_MCC : nan\n",
            "\t original_glcm_MaximumProbability : nan\n",
            "\t original_glcm_SumAverage : nan\n",
            "\t original_glcm_SumEntropy : nan\n",
            "\t original_glcm_SumSquares : nan\n",
            "\t original_gldm_DependenceEntropy : 1.6511972890007969\n",
            "\t original_gldm_DependenceNonUniformity : 42.0\n",
            "\t original_gldm_DependenceNonUniformityNormalized : 1.0\n",
            "\t original_gldm_DependenceVariance : 0.0\n",
            "\t original_gldm_GrayLevelNonUniformity : 15.714285714285714\n",
            "\t original_gldm_GrayLevelVariance : 0.6167800453514739\n",
            "\t original_gldm_HighGrayLevelEmphasis : 7.476190476190476\n",
            "\t original_gldm_LargeDependenceEmphasis : 1.0\n",
            "\t original_gldm_LargeDependenceHighGrayLevelEmphasis : 7.476190476190476\n",
            "\t original_gldm_LargeDependenceLowGrayLevelEmphasis : 0.23082010582010581\n",
            "\t original_gldm_LowGrayLevelEmphasis : 0.23082010582010581\n",
            "\t original_gldm_SmallDependenceEmphasis : 1.0\n",
            "\t original_gldm_SmallDependenceHighGrayLevelEmphasis : 7.476190476190476\n",
            "\t original_gldm_SmallDependenceLowGrayLevelEmphasis : 0.23082010582010581\n",
            "\t original_glrlm_GrayLevelNonUniformity : 15.714285714285714\n",
            "\t original_glrlm_GrayLevelNonUniformityNormalized : 0.3741496598639456\n",
            "\t original_glrlm_GrayLevelVariance : 0.6167800453514739\n",
            "\t original_glrlm_HighGrayLevelRunEmphasis : 7.476190476190476\n",
            "\t original_glrlm_LongRunEmphasis : 1.0\n",
            "\t original_glrlm_LongRunHighGrayLevelEmphasis : 7.476190476190476\n",
            "\t original_glrlm_LongRunLowGrayLevelEmphasis : 0.23082010582010581\n",
            "\t original_glrlm_LowGrayLevelRunEmphasis : 0.23082010582010581\n",
            "\t original_glrlm_RunEntropy : 1.6511972890007969\n",
            "\t original_glrlm_RunLengthNonUniformity : 42.0\n",
            "\t original_glrlm_RunLengthNonUniformityNormalized : 1.0\n",
            "\t original_glrlm_RunPercentage : 1.0\n",
            "\t original_glrlm_RunVariance : 0.0\n",
            "\t original_glrlm_ShortRunEmphasis : 1.0\n",
            "\t original_glrlm_ShortRunHighGrayLevelEmphasis : 7.476190476190476\n",
            "\t original_glrlm_ShortRunLowGrayLevelEmphasis : 0.23082010582010581\n",
            "\t original_glszm_GrayLevelNonUniformity : 15.714285714285714\n",
            "\t original_glszm_GrayLevelNonUniformityNormalized : 0.3741496598639456\n",
            "\t original_glszm_GrayLevelVariance : 0.6167800453514739\n",
            "\t original_glszm_HighGrayLevelZoneEmphasis : 7.476190476190476\n",
            "\t original_glszm_LargeAreaEmphasis : 1.0\n",
            "\t original_glszm_LargeAreaHighGrayLevelEmphasis : 7.476190476190476\n",
            "\t original_glszm_LargeAreaLowGrayLevelEmphasis : 0.23082010582010581\n",
            "\t original_glszm_LowGrayLevelZoneEmphasis : 0.23082010582010581\n",
            "\t original_glszm_SizeZoneNonUniformity : 42.0\n",
            "\t original_glszm_SizeZoneNonUniformityNormalized : 1.0\n",
            "\t original_glszm_SmallAreaEmphasis : 1.0\n",
            "\t original_glszm_SmallAreaHighGrayLevelEmphasis : 7.476190476190476\n",
            "\t original_glszm_SmallAreaLowGrayLevelEmphasis : 0.23082010582010581\n",
            "\t original_glszm_ZoneEntropy : 1.6511972890007969\n",
            "\t original_glszm_ZonePercentage : 1.0\n",
            "\t original_glszm_ZoneVariance : 0.0\n",
            "\t original_ngtdm_Busyness : 0.0\n",
            "\t original_ngtdm_Coarseness : 1000000.0\n",
            "\t original_ngtdm_Complexity : 0.0\n",
            "\t original_ngtdm_Contrast : 0.0\n",
            "\t original_ngtdm_Strength : 0.0\n"
          ]
        }
      ],
      "source": [
        "# Extract features\n",
        "result = extractor.execute(image3d, mask3d)\n",
        "print('Result type:', type(result))  # result is returned in a Python ordered dictionary\n",
        "print('')\n",
        "print('Calculated features')\n",
        "for key, value in six.iteritems(result):\n",
        "    print('\\t', key, ':', value)"
      ]
    },
    {
      "cell_type": "code",
      "source": [
        "from google.colab import files\n",
        "import pandas as pd\n",
        "import csv\n",
        "# test if the \n",
        "field_value= []\n",
        "field_names= []\n",
        "for key,value in six.iteritems(result):\n",
        "    field_names.append(key)\n",
        "    field_value.append(value)\n",
        "with open(\"result.csv\", \"w\") as outfile:\n",
        "    csvwriter = csv.writer(outfile)\n",
        "    csvwriter.writerow(field_names)\n",
        "    csvwriter.writerow(field_value)"
      ],
      "metadata": {
        "id": "YHPkZT5GWS9X"
      },
      "execution_count": null,
      "outputs": []
    },
    {
      "cell_type": "code",
      "source": [
        "\n",
        " \n",
        "\n",
        "\n",
        "# with open('data.csv', 'w') as f:\n",
        "#     for key in result.keys():\n",
        "#         f.write(\"%s, %s\\n\" % (key, dict[key]))"
      ],
      "metadata": {
        "colab": {
          "base_uri": "https://localhost:8080/",
          "height": 389
        },
        "id": "pOvx_nbkMzir",
        "outputId": "51aab154-1531-4a3b-88e6-80de57b16b81"
      },
      "execution_count": null,
      "outputs": [
        {
          "output_type": "error",
          "ename": "AttributeError",
          "evalue": "ignored",
          "traceback": [
            "\u001b[0;31m---------------------------------------------------------------------------\u001b[0m",
            "\u001b[0;31mAttributeError\u001b[0m                            Traceback (most recent call last)",
            "\u001b[0;32m<ipython-input-80-aaa0d9f8b893>\u001b[0m in \u001b[0;36m<module>\u001b[0;34m()\u001b[0m\n\u001b[1;32m     11\u001b[0m     \u001b[0mwriter\u001b[0m \u001b[0;34m=\u001b[0m \u001b[0mcsv\u001b[0m\u001b[0;34m.\u001b[0m\u001b[0mDictWriter\u001b[0m\u001b[0;34m(\u001b[0m\u001b[0mcsvfile\u001b[0m\u001b[0;34m,\u001b[0m \u001b[0mfieldnames\u001b[0m\u001b[0;34m=\u001b[0m\u001b[0mfield_names\u001b[0m\u001b[0;34m)\u001b[0m\u001b[0;34m\u001b[0m\u001b[0;34m\u001b[0m\u001b[0m\n\u001b[1;32m     12\u001b[0m     \u001b[0mwriter\u001b[0m\u001b[0;34m.\u001b[0m\u001b[0mwriteheader\u001b[0m\u001b[0;34m(\u001b[0m\u001b[0;34m)\u001b[0m\u001b[0;34m\u001b[0m\u001b[0;34m\u001b[0m\u001b[0m\n\u001b[0;32m---> 13\u001b[0;31m     \u001b[0mwriter\u001b[0m\u001b[0;34m.\u001b[0m\u001b[0mwriterows\u001b[0m\u001b[0;34m(\u001b[0m\u001b[0mresult\u001b[0m\u001b[0;34m)\u001b[0m\u001b[0;34m\u001b[0m\u001b[0;34m\u001b[0m\u001b[0m\n\u001b[0m\u001b[1;32m     14\u001b[0m \u001b[0;34m\u001b[0m\u001b[0m\n\u001b[1;32m     15\u001b[0m \u001b[0;34m\u001b[0m\u001b[0m\n",
            "\u001b[0;32m/usr/lib/python3.7/csv.py\u001b[0m in \u001b[0;36mwriterows\u001b[0;34m(self, rowdicts)\u001b[0m\n\u001b[1;32m    156\u001b[0m \u001b[0;34m\u001b[0m\u001b[0m\n\u001b[1;32m    157\u001b[0m     \u001b[0;32mdef\u001b[0m \u001b[0mwriterows\u001b[0m\u001b[0;34m(\u001b[0m\u001b[0mself\u001b[0m\u001b[0;34m,\u001b[0m \u001b[0mrowdicts\u001b[0m\u001b[0;34m)\u001b[0m\u001b[0;34m:\u001b[0m\u001b[0;34m\u001b[0m\u001b[0;34m\u001b[0m\u001b[0m\n\u001b[0;32m--> 158\u001b[0;31m         \u001b[0;32mreturn\u001b[0m \u001b[0mself\u001b[0m\u001b[0;34m.\u001b[0m\u001b[0mwriter\u001b[0m\u001b[0;34m.\u001b[0m\u001b[0mwriterows\u001b[0m\u001b[0;34m(\u001b[0m\u001b[0mmap\u001b[0m\u001b[0;34m(\u001b[0m\u001b[0mself\u001b[0m\u001b[0;34m.\u001b[0m\u001b[0m_dict_to_list\u001b[0m\u001b[0;34m,\u001b[0m \u001b[0mrowdicts\u001b[0m\u001b[0;34m)\u001b[0m\u001b[0;34m)\u001b[0m\u001b[0;34m\u001b[0m\u001b[0;34m\u001b[0m\u001b[0m\n\u001b[0m\u001b[1;32m    159\u001b[0m \u001b[0;34m\u001b[0m\u001b[0m\n\u001b[1;32m    160\u001b[0m \u001b[0;31m# Guard Sniffer's type checking against builds that exclude complex()\u001b[0m\u001b[0;34m\u001b[0m\u001b[0;34m\u001b[0m\u001b[0;34m\u001b[0m\u001b[0m\n",
            "\u001b[0;32m/usr/lib/python3.7/csv.py\u001b[0m in \u001b[0;36m_dict_to_list\u001b[0;34m(self, rowdict)\u001b[0m\n\u001b[1;32m    146\u001b[0m     \u001b[0;32mdef\u001b[0m \u001b[0m_dict_to_list\u001b[0m\u001b[0;34m(\u001b[0m\u001b[0mself\u001b[0m\u001b[0;34m,\u001b[0m \u001b[0mrowdict\u001b[0m\u001b[0;34m)\u001b[0m\u001b[0;34m:\u001b[0m\u001b[0;34m\u001b[0m\u001b[0;34m\u001b[0m\u001b[0m\n\u001b[1;32m    147\u001b[0m         \u001b[0;32mif\u001b[0m \u001b[0mself\u001b[0m\u001b[0;34m.\u001b[0m\u001b[0mextrasaction\u001b[0m \u001b[0;34m==\u001b[0m \u001b[0;34m\"raise\"\u001b[0m\u001b[0;34m:\u001b[0m\u001b[0;34m\u001b[0m\u001b[0;34m\u001b[0m\u001b[0m\n\u001b[0;32m--> 148\u001b[0;31m             \u001b[0mwrong_fields\u001b[0m \u001b[0;34m=\u001b[0m \u001b[0mrowdict\u001b[0m\u001b[0;34m.\u001b[0m\u001b[0mkeys\u001b[0m\u001b[0;34m(\u001b[0m\u001b[0;34m)\u001b[0m \u001b[0;34m-\u001b[0m \u001b[0mself\u001b[0m\u001b[0;34m.\u001b[0m\u001b[0mfieldnames\u001b[0m\u001b[0;34m\u001b[0m\u001b[0;34m\u001b[0m\u001b[0m\n\u001b[0m\u001b[1;32m    149\u001b[0m             \u001b[0;32mif\u001b[0m \u001b[0mwrong_fields\u001b[0m\u001b[0;34m:\u001b[0m\u001b[0;34m\u001b[0m\u001b[0;34m\u001b[0m\u001b[0m\n\u001b[1;32m    150\u001b[0m                 raise ValueError(\"dict contains fields not in fieldnames: \"\n",
            "\u001b[0;31mAttributeError\u001b[0m: 'str' object has no attribute 'keys'"
          ]
        }
      ]
    },
    {
      "cell_type": "code",
      "source": [
        "# Get the relative path to pyradiomics\\data\n",
        "# os.cwd() returns the current working directory\n",
        "# \"..\" points to the parent directory: \\pyradiomics\\bin\\Notebooks\\..\\ is equal to \\pyradiomics\\bin\\\n",
        "# Move up 2 directories (i.e. go to \\pyradiomics\\) and then move into \\pyradiomics\\data\n",
        "\n",
        "dataDir = os.path.join('/tmp/covid_19_severity_prediction-Justin/Chest X-ray Image Data sets')\n",
        "print(\"dataDir, relative path:\", dataDir)\n",
        "print(\"dataDir, absolute path:\", os.path.abspath(dataDir))\n",
        "\n",
        "for file in os.listdir(dataDir): \n",
        "  # Define the testcase name\n",
        "  count = 1\n",
        "  CXR_name = count + \"\"\n",
        "\n",
        "\n",
        "# Resizing images to 256 x 256\n",
        "for file in os.listdir(dataDir):\n",
        "    f_img = dataDir + \"/\" + file\n",
        "    img = Image.open(f_img)\n",
        "    img = img.resize((256,256))\n",
        "    img.save(f_img)\n",
        "\n",
        "# Store the file paths of our testing image and label map into two variables\n",
        "imagePath = os.path.join(dataDir, CXR_name + \".jpg\")\n",
        "maskPath = os.path.join(dataDir, CXR_name + \"-mask.png\")\n",
        "\n",
        "# Transforming into \"3D\" image for pyradiomics\n",
        "image = sitk.ReadImage(imagePath)\n",
        "image3d = sitk.JoinSeries(image)\n",
        "mask = sitk.ReadImage(maskPath)"
      ],
      "metadata": {
        "id": "IlmLS0jlLcPK"
      },
      "execution_count": null,
      "outputs": []
    }
  ],
  "metadata": {
    "colab": {
      "name": "Feature Extraction.ipynb",
      "provenance": [],
      "collapsed_sections": [],
      "include_colab_link": true
    },
    "kernelspec": {
      "display_name": "Python 3",
      "name": "python3"
    },
    "language_info": {
      "name": "python"
    }
  },
  "nbformat": 4,
  "nbformat_minor": 0
}