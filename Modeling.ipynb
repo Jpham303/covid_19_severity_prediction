{
 "cells": [
  {
   "cell_type": "markdown",
   "id": "38d338a5",
   "metadata": {},
   "source": [
    "# Preprocessing"
   ]
  },
  {
   "cell_type": "code",
   "execution_count": 138,
   "id": "95b52a14",
   "metadata": {},
   "outputs": [],
   "source": [
    "# Needed libraries\n",
    "import pandas as pd\n",
    "import numpy as np\n",
    "from sklearn import preprocessing\n",
    "from sklearn.preprocessing import scale\n",
    "import matplotlib.pyplot as plt\n",
    "from sklearn.model_selection import train_test_split\n",
    "\n",
    "# evaluate a logistic regression model using k-fold cross-validation\n",
    "from numpy import mean\n",
    "from numpy import std\n",
    "from sklearn.datasets import make_classification\n",
    "from sklearn.model_selection import KFold\n",
    "from sklearn.model_selection import cross_val_score\n",
    "from sklearn.linear_model import LogisticRegression"
   ]
  },
  {
   "cell_type": "code",
   "execution_count": 139,
   "id": "358ecdee",
   "metadata": {},
   "outputs": [],
   "source": [
    "# Importing both csv and joining\n",
    "df1 = pd.read_csv(\"Data/public-annotations.csv\")\n",
    "df2 = pd.read_csv(\"Data/public_cohen_dataset_features.csv\")\n",
    "df = df1.join(df2)\n",
    "\n",
    "# Dropping J- measurements for \"junior\"\n",
    "df = df.drop(['S-A', 'S-B', 'S-C', 'S-D', 'S-E', 'S-F', 'J-A', 'J-B', 'J-C', 'J-D', 'J-E', 'J-F', 'J-Global'], axis = 1)\n",
    "\n",
    "# Adding severity class 1, 2, 3\n",
    "df['s_class'] = 0\n",
    "\n",
    "for i in range(192):\n",
    "    if df.iloc[i, 1] <= 6:\n",
    "        df.iloc[i, 109] = 1\n",
    "        continue\n",
    "    elif df.iloc[i, 1] <= 12:\n",
    "        df.iloc[i, 109] = 2\n",
    "        continue\n",
    "    else:\n",
    "        df.iloc[i, 109] = 3\n",
    "        \n",
    "        \n",
    "# dropping filename column and S-Global score\n",
    "df_features = df.drop('filename', axis = 1)\n",
    "df_features = df_features.drop('S-Global', axis = 1)\n"
   ]
  },
  {
   "cell_type": "code",
   "execution_count": 140,
   "id": "ed402311",
   "metadata": {},
   "outputs": [],
   "source": [
    "# Setting features and response\n",
    "X = df_features.iloc[:, 0:107]\n",
    "Y = df_features.iloc[:, 107:108]\n",
    "\n",
    "# Splitting 80/20\n",
    "X_train, X_test, y_train, y_test = train_test_split(X, Y, test_size=0.2, random_state=20)\n",
    "\n",
    "# Scaling\n",
    "scaler = preprocessing.StandardScaler().fit(X_train)\n",
    "X_scaled = scaler.transform(X_train)\n",
    "y_train = np.ravel(y_train)"
   ]
  },
  {
   "cell_type": "markdown",
   "id": "45f76aba",
   "metadata": {},
   "source": [
    "Logistic Regression - Lasso Feature Selection"
   ]
  },
  {
   "cell_type": "code",
   "execution_count": 169,
   "id": "0cb493b6",
   "metadata": {},
   "outputs": [],
   "source": [
    "from sklearn.linear_model import LogisticRegression\n",
    "clf = LogisticRegression(penalty = 'l1', max_iter = 300, random_state=0,  solver='liblinear').fit(X_scaled, y_train)"
   ]
  },
  {
   "cell_type": "code",
   "execution_count": 170,
   "id": "a1f5c291",
   "metadata": {},
   "outputs": [
    {
     "data": {
      "text/plain": [
       "array([1, 2], dtype=int64)"
      ]
     },
     "execution_count": 170,
     "metadata": {},
     "output_type": "execute_result"
    }
   ],
   "source": [
    "clf.predict(X_scaled[:2, :])"
   ]
  },
  {
   "cell_type": "code",
   "execution_count": 171,
   "id": "118419de",
   "metadata": {},
   "outputs": [
    {
     "data": {
      "text/plain": [
       "0.7647058823529411"
      ]
     },
     "execution_count": 171,
     "metadata": {},
     "output_type": "execute_result"
    }
   ],
   "source": [
    "clf.score(X_scaled, y_train)\n",
    "\n",
    "# Get confusion matrix"
   ]
  },
  {
   "cell_type": "code",
   "execution_count": 172,
   "id": "5416b75e",
   "metadata": {},
   "outputs": [
    {
     "name": "stdout",
     "output_type": "stream",
     "text": [
      "Accuracy: 0.536 (0.122)\n"
     ]
    }
   ],
   "source": [
    "# prepare the cross-validation procedure\n",
    "cv = KFold(n_splits=10, random_state=1, shuffle=True)\n",
    "\n",
    "# create model\n",
    "model = LogisticRegression(penalty = 'l1', max_iter = 300, random_state=0,  solver='liblinear').fit(X_scaled, y_train)\n",
    "\n",
    "# evaluate model\n",
    "scores = cross_val_score(model, X_scaled, y_train, scoring='accuracy', cv=cv, n_jobs=-1)\n",
    "\n",
    "# report performance\n",
    "print('Accuracy: %.3f (%.3f)' % (mean(scores), std(scores)))"
   ]
  },
  {
   "cell_type": "markdown",
   "id": "1ca014fa",
   "metadata": {},
   "source": [
    "Feature Selection - ANOVA"
   ]
  },
  {
   "cell_type": "code",
   "execution_count": 115,
   "id": "c23941dd",
   "metadata": {},
   "outputs": [],
   "source": [
    "from sklearn.feature_selection import SelectKBest\n",
    "from sklearn.feature_selection import f_classif"
   ]
  },
  {
   "cell_type": "code",
   "execution_count": 158,
   "id": "d2655579",
   "metadata": {},
   "outputs": [
    {
     "name": "stderr",
     "output_type": "stream",
     "text": [
      "T:\\Users\\Luke\\anaconda3\\lib\\site-packages\\sklearn\\feature_selection\\_univariate_selection.py:114: UserWarning: Features [1 2] are constant.\n",
      "  warnings.warn(\"Features %s are constant.\" % constant_features_idx,\n",
      "T:\\Users\\Luke\\anaconda3\\lib\\site-packages\\sklearn\\feature_selection\\_univariate_selection.py:116: RuntimeWarning: invalid value encountered in true_divide\n",
      "  f = msb / msw\n"
     ]
    },
    {
     "data": {
      "text/plain": [
       "0.7908496732026143"
      ]
     },
     "execution_count": 158,
     "metadata": {},
     "output_type": "execute_result"
    }
   ],
   "source": [
    "fs = SelectKBest(score_func = f_classif, k = 55)\n",
    "X_train_selected_ANOVA = fs.fit_transform(X_scaled, y_train)\n",
    "# Retrying Log Regression with ANOVA selected features\n",
    "clf = LogisticRegression(penalty = 'l2', max_iter = 150, random_state=0).fit(X_train_selected_ANOVA, y_train)\n",
    "clf.score(X_train_selected_ANOVA, y_train)"
   ]
  },
  {
   "cell_type": "code",
   "execution_count": 159,
   "id": "05c97afe",
   "metadata": {},
   "outputs": [
    {
     "name": "stdout",
     "output_type": "stream",
     "text": [
      "Accuracy: 0.541 (0.153)\n"
     ]
    }
   ],
   "source": [
    "# prepare the cross-validation procedure\n",
    "cv = KFold(n_splits=10, random_state=1, shuffle=True)\n",
    "\n",
    "# create model\n",
    "model = LogisticRegression(penalty = 'l2', max_iter = 150, random_state=0).fit(X_train_selected_ANOVA, y_train)\n",
    "\n",
    "# evaluate model\n",
    "scores = cross_val_score(model, X_train_selected_ANOVA, y_train, scoring='accuracy', cv=cv, n_jobs=-1)\n",
    "\n",
    "# report performance\n",
    "print('Accuracy: %.3f (%.3f)' % (mean(scores), std(scores)))"
   ]
  },
  {
   "cell_type": "code",
   "execution_count": 164,
   "id": "39b1906b",
   "metadata": {},
   "outputs": [
    {
     "name": "stderr",
     "output_type": "stream",
     "text": [
      "T:\\Users\\Luke\\anaconda3\\lib\\site-packages\\sklearn\\feature_selection\\_univariate_selection.py:114: UserWarning: Features [1 2] are constant.\n",
      "  warnings.warn(\"Features %s are constant.\" % constant_features_idx,\n",
      "T:\\Users\\Luke\\anaconda3\\lib\\site-packages\\sklearn\\feature_selection\\_univariate_selection.py:116: RuntimeWarning: invalid value encountered in true_divide\n",
      "  f = msb / msw\n"
     ]
    },
    {
     "data": {
      "text/plain": [
       "0.673202614379085"
      ]
     },
     "execution_count": 164,
     "metadata": {},
     "output_type": "execute_result"
    }
   ],
   "source": [
    "fs = SelectKBest(score_func = f_classif, k = 19)\n",
    "X_train_selected_ANOVA = fs.fit_transform(X_scaled, y_train)\n",
    "# Retrying Log Regression with ANOVA selected features\n",
    "clf = LogisticRegression(penalty = 'l2', max_iter = 150, random_state=0).fit(X_train_selected_ANOVA, y_train)\n",
    "clf.score(X_train_selected_ANOVA, y_train)"
   ]
  },
  {
   "cell_type": "code",
   "execution_count": 165,
   "id": "e32dede8",
   "metadata": {},
   "outputs": [
    {
     "name": "stdout",
     "output_type": "stream",
     "text": [
      "Accuracy: 0.566 (0.150)\n"
     ]
    }
   ],
   "source": [
    "# prepare the cross-validation procedure\n",
    "cv = KFold(n_splits=10, random_state=1, shuffle=True)\n",
    "\n",
    "# create model\n",
    "model = LogisticRegression(penalty = 'l2', max_iter = 150, random_state=0).fit(X_train_selected_ANOVA, y_train)\n",
    "\n",
    "# evaluate model\n",
    "scores = cross_val_score(model, X_train_selected_ANOVA, y_train, scoring='accuracy', cv=cv, n_jobs=-1)\n",
    "\n",
    "# report performance\n",
    "print('Accuracy: %.3f (%.3f)' % (mean(scores), std(scores)))"
   ]
  },
  {
   "cell_type": "code",
   "execution_count": null,
   "id": "c32f01e9",
   "metadata": {},
   "outputs": [],
   "source": []
  },
  {
   "cell_type": "code",
   "execution_count": null,
   "id": "69a05b95",
   "metadata": {},
   "outputs": [],
   "source": []
  },
  {
   "cell_type": "code",
   "execution_count": null,
   "id": "1185d69f",
   "metadata": {},
   "outputs": [],
   "source": []
  }
 ],
 "metadata": {
  "kernelspec": {
   "display_name": "Python 3",
   "language": "python",
   "name": "python3"
  },
  "language_info": {
   "codemirror_mode": {
    "name": "ipython",
    "version": 3
   },
   "file_extension": ".py",
   "mimetype": "text/x-python",
   "name": "python",
   "nbconvert_exporter": "python",
   "pygments_lexer": "ipython3",
   "version": "3.8.8"
  }
 },
 "nbformat": 4,
 "nbformat_minor": 5
}
