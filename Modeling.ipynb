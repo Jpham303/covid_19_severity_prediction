{
 "cells": [
  {
   "cell_type": "markdown",
   "id": "ccbb6ff6",
   "metadata": {},
   "source": [
    "# Preprocessing"
   ]
  },
  {
   "cell_type": "code",
   "execution_count": 138,
   "id": "744f0f43",
   "metadata": {},
   "outputs": [],
   "source": [
    "# Needed libraries\n",
    "import pandas as pd\n",
    "import numpy as np\n",
    "from sklearn import preprocessing\n",
    "from sklearn.preprocessing import scale\n",
    "import matplotlib.pyplot as plt\n",
    "from sklearn.model_selection import train_test_split\n",
    "\n",
    "# evaluate a logistic regression model using k-fold cross-validation\n",
    "from numpy import mean\n",
    "from numpy import std\n",
    "from sklearn.datasets import make_classification\n",
    "from sklearn.model_selection import KFold\n",
    "from sklearn.model_selection import cross_val_score\n",
    "from sklearn.linear_model import LogisticRegression"
   ]
  },
  {
   "cell_type": "code",
   "execution_count": 139,
   "id": "b663be9b",
   "metadata": {},
   "outputs": [],
   "source": [
    "# Importing both csv and joining\n",
    "df1 = pd.read_csv(\"Data/public-annotations.csv\")\n",
    "df2 = pd.read_csv(\"Data/public_cohen_dataset_features.csv\")\n",
    "df = df1.join(df2)\n",
    "\n",
    "# Dropping J- measurements for \"junior\"\n",
    "df = df.drop(['S-A', 'S-B', 'S-C', 'S-D', 'S-E', 'S-F', 'J-A', 'J-B', 'J-C', 'J-D', 'J-E', 'J-F', 'J-Global'], axis = 1)\n",
    "\n",
    "# Adding severity class 1, 2, 3\n",
    "df['s_class'] = 0\n",
    "\n",
    "for i in range(192):\n",
    "    if df.iloc[i, 1] <= 6:\n",
    "        df.iloc[i, 109] = 1\n",
    "        continue\n",
    "    elif df.iloc[i, 1] <= 12:\n",
    "        df.iloc[i, 109] = 2\n",
    "        continue\n",
    "    else:\n",
    "        df.iloc[i, 109] = 3\n",
    "        \n",
    "        \n",
    "# dropping filename column and S-Global score\n",
    "df_features = df.drop('filename', axis = 1)\n",
    "df_features = df_features.drop('S-Global', axis = 1)\n"
   ]
  },
  {
   "cell_type": "code",
   "execution_count": 140,
   "id": "fd8eb17b",
   "metadata": {},
   "outputs": [],
   "source": [
    "# Setting features and response\n",
    "X = df_features.iloc[:, 0:107]\n",
    "Y = df_features.iloc[:, 107:108]\n",
    "\n",
    "# Splitting 80/20\n",
    "X_train, X_test, y_train, y_test = train_test_split(X, Y, test_size=0.2, random_state=20)\n",
    "\n",
    "# Scaling\n",
    "scaler = preprocessing.StandardScaler().fit(X_train)\n",
    "X_scaled = scaler.transform(X_train)\n",
    "y_train = np.ravel(y_train)"
   ]
  },
  {
   "cell_type": "markdown",
   "id": "0221f9cf",
   "metadata": {},
   "source": [
    "Logistic Regression - Lasso Feature Selection"
   ]
  },
  {
   "cell_type": "code",
   "execution_count": 169,
   "id": "63482bd1",
   "metadata": {},
   "outputs": [],
   "source": [
    "from sklearn.linear_model import LogisticRegression\n",
    "clf = LogisticRegression(penalty = 'l1', max_iter = 300, random_state=0,  solver='liblinear').fit(X_scaled, y_train)"
   ]
  },
  {
   "cell_type": "code",
   "execution_count": 170,
   "id": "2a670827",
   "metadata": {},
   "outputs": [
    {
     "data": {
      "text/plain": [
       "array([1, 2], dtype=int64)"
      ]
     },
     "execution_count": 170,
     "metadata": {},
     "output_type": "execute_result"
    }
   ],
   "source": [
    "clf.predict(X_scaled[:2, :])"
   ]
  },
  {
   "cell_type": "code",
   "execution_count": 171,
   "id": "7fdb2dd2",
   "metadata": {},
   "outputs": [
    {
     "data": {
      "text/plain": [
       "0.7647058823529411"
      ]
     },
     "execution_count": 171,
     "metadata": {},
     "output_type": "execute_result"
    }
   ],
   "source": [
    "clf.score(X_scaled, y_train)\n",
    "\n",
    "# Get confusion matrix"
   ]
  },
  {
   "cell_type": "code",
   "execution_count": 172,
   "id": "640898dd",
   "metadata": {},
   "outputs": [
    {
     "name": "stdout",
     "output_type": "stream",
     "text": [
      "Accuracy: 0.536 (0.122)\n"
     ]
    }
   ],
   "source": [
    "# prepare the cross-validation procedure\n",
    "cv = KFold(n_splits=10, random_state=1, shuffle=True)\n",
    "\n",
    "# create model\n",
    "model = LogisticRegression(penalty = 'l1', max_iter = 300, random_state=0,  solver='liblinear').fit(X_scaled, y_train)\n",
    "\n",
    "# evaluate model\n",
    "scores = cross_val_score(model, X_scaled, y_train, scoring='accuracy', cv=cv, n_jobs=-1)\n",
    "\n",
    "# report performance\n",
    "print('Accuracy: %.3f (%.3f)' % (mean(scores), std(scores)))"
   ]
  },
  {
   "cell_type": "markdown",
   "id": "3bbd4374",
   "metadata": {},
   "source": [
    "Feature Selection - ANOVA"
   ]
  },
  {
   "cell_type": "code",
   "execution_count": 115,
   "id": "0f56ec7e",
   "metadata": {},
   "outputs": [],
   "source": [
    "from sklearn.feature_selection import SelectKBest\n",
    "from sklearn.feature_selection import f_classif"
   ]
  },
  {
   "cell_type": "markdown",
   "id": "5f18a7c9",
   "metadata": {},
   "source": [
    "Ridge regression 55 features"
   ]
  },
  {
   "cell_type": "code",
   "execution_count": 209,
   "id": "69a9c0c1",
   "metadata": {},
   "outputs": [
    {
     "name": "stderr",
     "output_type": "stream",
     "text": [
      "T:\\Users\\Luke\\anaconda3\\lib\\site-packages\\sklearn\\feature_selection\\_univariate_selection.py:114: UserWarning: Features [1 2] are constant.\n",
      "  warnings.warn(\"Features %s are constant.\" % constant_features_idx,\n",
      "T:\\Users\\Luke\\anaconda3\\lib\\site-packages\\sklearn\\feature_selection\\_univariate_selection.py:116: RuntimeWarning: invalid value encountered in true_divide\n",
      "  f = msb / msw\n"
     ]
    },
    {
     "data": {
      "text/plain": [
       "0.7908496732026143"
      ]
     },
     "execution_count": 209,
     "metadata": {},
     "output_type": "execute_result"
    }
   ],
   "source": [
    "fs = SelectKBest(score_func = f_classif, k = 55)\n",
    "X_train_selected_ANOVA = fs.fit_transform(X_scaled, y_train)\n",
    "# Retrying Log Regression with ANOVA selected features\n",
    "clf = LogisticRegression(penalty = 'l2', max_iter = 150, random_state=0).fit(X_train_selected_ANOVA, y_train)\n",
    "clf.score(X_train_selected_ANOVA, y_train)"
   ]
  },
  {
   "cell_type": "code",
   "execution_count": 210,
   "id": "bb16e13d",
   "metadata": {},
   "outputs": [
    {
     "name": "stdout",
     "output_type": "stream",
     "text": [
      "Accuracy: 0.541 (0.153)\n"
     ]
    }
   ],
   "source": [
    "# prepare the cross-validation procedure\n",
    "cv = KFold(n_splits=10, random_state=1, shuffle=True)\n",
    "\n",
    "# create model\n",
    "model = LogisticRegression(penalty = 'l2', max_iter = 150, random_state=0).fit(X_train_selected_ANOVA, y_train)\n",
    "\n",
    "# evaluate model\n",
    "scores = cross_val_score(model, X_train_selected_ANOVA, y_train, scoring='accuracy', cv=cv, n_jobs=-1)\n",
    "\n",
    "# report performance\n",
    "print('Accuracy: %.3f (%.3f)' % (mean(scores), std(scores)))"
   ]
  },
  {
   "cell_type": "code",
   "execution_count": 213,
   "id": "3ee8c246",
   "metadata": {},
   "outputs": [
    {
     "data": {
      "text/plain": [
       "array([[41, 15,  2],\n",
       "       [ 7, 61,  2],\n",
       "       [ 0,  6, 19]], dtype=int64)"
      ]
     },
     "execution_count": 213,
     "metadata": {},
     "output_type": "execute_result"
    }
   ],
   "source": [
    "y_pred = clf.predict(X_train_selected_ANOVA)\n",
    "\n",
    "confusion_matrix(y_train, y_pred)"
   ]
  },
  {
   "cell_type": "markdown",
   "id": "16455036",
   "metadata": {},
   "source": [
    "Ridge Regression 19 features (rule of ten)"
   ]
  },
  {
   "cell_type": "code",
   "execution_count": 164,
   "id": "dd5a0cfb",
   "metadata": {},
   "outputs": [
    {
     "name": "stderr",
     "output_type": "stream",
     "text": [
      "T:\\Users\\Luke\\anaconda3\\lib\\site-packages\\sklearn\\feature_selection\\_univariate_selection.py:114: UserWarning: Features [1 2] are constant.\n",
      "  warnings.warn(\"Features %s are constant.\" % constant_features_idx,\n",
      "T:\\Users\\Luke\\anaconda3\\lib\\site-packages\\sklearn\\feature_selection\\_univariate_selection.py:116: RuntimeWarning: invalid value encountered in true_divide\n",
      "  f = msb / msw\n"
     ]
    },
    {
     "data": {
      "text/plain": [
       "0.673202614379085"
      ]
     },
     "execution_count": 164,
     "metadata": {},
     "output_type": "execute_result"
    }
   ],
   "source": [
    "fs = SelectKBest(score_func = f_classif, k = 19)\n",
    "X_train_selected_ANOVA = fs.fit_transform(X_scaled, y_train)\n",
    "# Retrying Log Regression with ANOVA selected features\n",
    "clf = LogisticRegression(penalty = 'l2', max_iter = 150, random_state=0).fit(X_train_selected_ANOVA, y_train)\n",
    "clf.score(X_train_selected_ANOVA, y_train)"
   ]
  },
  {
   "cell_type": "code",
   "execution_count": 165,
   "id": "959e35c3",
   "metadata": {},
   "outputs": [
    {
     "name": "stdout",
     "output_type": "stream",
     "text": [
      "Accuracy: 0.566 (0.150)\n"
     ]
    }
   ],
   "source": [
    "# prepare the cross-validation procedure\n",
    "cv = KFold(n_splits=10, random_state=1, shuffle=True)\n",
    "\n",
    "# create model\n",
    "model = LogisticRegression(penalty = 'l2', max_iter = 150, random_state=0).fit(X_train_selected_ANOVA, y_train)\n",
    "\n",
    "# evaluate model\n",
    "scores = cross_val_score(model, X_train_selected_ANOVA, y_train, scoring='accuracy', cv=cv, n_jobs=-1)\n",
    "\n",
    "# report performance\n",
    "print('Accuracy: %.3f (%.3f)' % (mean(scores), std(scores)))"
   ]
  },
  {
   "cell_type": "code",
   "execution_count": 204,
   "id": "a659fc26",
   "metadata": {},
   "outputs": [],
   "source": [
    "from sklearn.neighbors import KNeighborsClassifier\n",
    "from sklearn.metrics import confusion_matrix"
   ]
  },
  {
   "cell_type": "code",
   "execution_count": 206,
   "id": "2aaaf7aa",
   "metadata": {},
   "outputs": [
    {
     "name": "stdout",
     "output_type": "stream",
     "text": [
      "Accuracy: 0.483 (0.096)\n"
     ]
    },
    {
     "name": "stderr",
     "output_type": "stream",
     "text": [
      "T:\\Users\\Luke\\anaconda3\\lib\\site-packages\\sklearn\\feature_selection\\_univariate_selection.py:114: UserWarning: Features [1 2] are constant.\n",
      "  warnings.warn(\"Features %s are constant.\" % constant_features_idx,\n",
      "T:\\Users\\Luke\\anaconda3\\lib\\site-packages\\sklearn\\feature_selection\\_univariate_selection.py:116: RuntimeWarning: invalid value encountered in true_divide\n",
      "  f = msb / msw\n"
     ]
    }
   ],
   "source": [
    "# KNN 55 features K = 5\n",
    "fs = SelectKBest(score_func = f_classif, k = 55)\n",
    "X_train_selected_ANOVA = fs.fit_transform(X_scaled, y_train)\n",
    "\n",
    "neigh = KNeighborsClassifier(n_neighbors=5)\n",
    "neigh.fit(X_train_selected_ANOVA, y_train)\n",
    "\n",
    "neigh.score(X_train_selected_ANOVA, y_train)\n",
    "\n",
    "# prepare the cross-validation procedure\n",
    "cv = KFold(n_splits=10, random_state=1, shuffle=True)\n",
    "\n",
    "# create model\n",
    "model = KNeighborsClassifier(n_neighbors=5)\n",
    "\n",
    "# evaluate model\n",
    "scores = cross_val_score(model, X_train_selected_ANOVA, y_train, scoring='accuracy', cv=cv, n_jobs=-1)\n",
    "\n",
    "# report performance\n",
    "print('Accuracy: %.3f (%.3f)' % (mean(scores), std(scores)))"
   ]
  },
  {
   "cell_type": "code",
   "execution_count": 208,
   "id": "58e142e1",
   "metadata": {},
   "outputs": [
    {
     "data": {
      "text/plain": [
       "array([[38, 19,  1],\n",
       "       [14, 55,  1],\n",
       "       [ 4, 14,  7]], dtype=int64)"
      ]
     },
     "execution_count": 208,
     "metadata": {},
     "output_type": "execute_result"
    }
   ],
   "source": [
    "y_pred = neigh.predict(X_train_selected_ANOVA)\n",
    "\n",
    "confusion_matrix(y_train, y_pred)"
   ]
  },
  {
   "cell_type": "code",
   "execution_count": null,
   "id": "c52d0a5f",
   "metadata": {},
   "outputs": [],
   "source": []
  },
  {
   "cell_type": "code",
   "execution_count": 188,
   "id": "87c7b0c6",
   "metadata": {},
   "outputs": [
    {
     "name": "stdout",
     "output_type": "stream",
     "text": [
      "Accuracy: 0.405 (0.121)\n"
     ]
    },
    {
     "name": "stderr",
     "output_type": "stream",
     "text": [
      "T:\\Users\\Luke\\anaconda3\\lib\\site-packages\\sklearn\\feature_selection\\_univariate_selection.py:114: UserWarning: Features [1 2] are constant.\n",
      "  warnings.warn(\"Features %s are constant.\" % constant_features_idx,\n",
      "T:\\Users\\Luke\\anaconda3\\lib\\site-packages\\sklearn\\feature_selection\\_univariate_selection.py:116: RuntimeWarning: invalid value encountered in true_divide\n",
      "  f = msb / msw\n"
     ]
    }
   ],
   "source": [
    "# KNN 19 Features K = 5\n",
    "fs = SelectKBest(score_func = f_classif, k = 19)\n",
    "X_train_selected_ANOVA = fs.fit_transform(X_scaled, y_train)\n",
    "\n",
    "neigh = KNeighborsClassifier(n_neighbors=5)\n",
    "neigh.fit(X_train_selected_ANOVA, y_train)\n",
    "\n",
    "neigh.score(X_train_selected_ANOVA, y_train)\n",
    "\n",
    "# prepare the cross-validation procedure\n",
    "cv = KFold(n_splits=10, random_state=1, shuffle=True)\n",
    "\n",
    "# create model\n",
    "model = KNeighborsClassifier(n_neighbors=5)\n",
    "\n",
    "# evaluate model\n",
    "scores = cross_val_score(model, X_train_selected_ANOVA, y_train, scoring='accuracy', cv=cv, n_jobs=-1)\n",
    "\n",
    "# report performance\n",
    "print('Accuracy: %.3f (%.3f)' % (mean(scores), std(scores)))"
   ]
  },
  {
   "cell_type": "code",
   "execution_count": 202,
   "id": "a9f1513b",
   "metadata": {},
   "outputs": [
    {
     "name": "stdout",
     "output_type": "stream",
     "text": [
      "58 70 25\n"
     ]
    }
   ],
   "source": [
    "# Total of each class in train\n",
    "print(sum(y_train == 1), sum(y_train == 2), sum(y_train == 3))"
   ]
  },
  {
   "cell_type": "code",
   "execution_count": 219,
   "id": "44ac5a34",
   "metadata": {},
   "outputs": [
    {
     "name": "stdout",
     "output_type": "stream",
     "text": [
      "It worked\n"
     ]
    },
    {
     "ename": "NameError",
     "evalue": "name 'X_train' is not defined",
     "output_type": "error",
     "traceback": [
      "\u001b[1;31m---------------------------------------------------------------------------\u001b[0m",
      "\u001b[1;31mNameError\u001b[0m                                 Traceback (most recent call last)",
      "\u001b[1;32m~\\capstone\\covid_19_severity_prediction\\printx.py\u001b[0m in \u001b[0;36m<module>\u001b[1;34m\u001b[0m\n\u001b[0;32m      1\u001b[0m \u001b[0mprint\u001b[0m\u001b[1;33m(\u001b[0m\u001b[1;34m\"It worked\"\u001b[0m\u001b[1;33m)\u001b[0m\u001b[1;33m\u001b[0m\u001b[1;33m\u001b[0m\u001b[0m\n\u001b[0;32m      2\u001b[0m \u001b[1;33m\u001b[0m\u001b[0m\n\u001b[1;32m----> 3\u001b[1;33m \u001b[0mprint\u001b[0m\u001b[1;33m(\u001b[0m\u001b[0mX_train\u001b[0m\u001b[1;33m)\u001b[0m\u001b[1;33m\u001b[0m\u001b[1;33m\u001b[0m\u001b[0m\n\u001b[0m",
      "\u001b[1;31mNameError\u001b[0m: name 'X_train' is not defined"
     ]
    }
   ],
   "source": [
    "# how to run a file in PYNB\n",
    "%run printx.py"
   ]
  }
 ],
 "metadata": {
  "kernelspec": {
   "display_name": "Python 3",
   "language": "python",
   "name": "python3"
  },
  "language_info": {
   "codemirror_mode": {
    "name": "ipython",
    "version": 3
   },
   "file_extension": ".py",
   "mimetype": "text/x-python",
   "name": "python",
   "nbconvert_exporter": "python",
   "pygments_lexer": "ipython3",
   "version": "3.8.8"
  }
 },
 "nbformat": 4,
 "nbformat_minor": 5
}
