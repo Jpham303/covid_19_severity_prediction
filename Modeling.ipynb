{
 "cells": [
  {
   "cell_type": "markdown",
   "id": "105b565b",
   "metadata": {},
   "source": [
    "# Preprocessing"
   ]
  },
  {
   "cell_type": "code",
   "execution_count": 42,
   "id": "ed909869",
   "metadata": {},
   "outputs": [],
   "source": [
    "# Needed libraries\n",
    "import pandas as pd\n",
    "import numpy as np\n",
    "from sklearn import preprocessing\n",
    "from sklearn.preprocessing import scale\n",
    "import matplotlib.pyplot as plt\n",
    "from sklearn.model_selection import train_test_split\n",
    "\n",
    "# evaluate a logistic regression model using k-fold cross-validation\n",
    "from numpy import mean\n",
    "from numpy import std\n",
    "from sklearn.datasets import make_classification\n",
    "from sklearn.model_selection import KFold\n",
    "from sklearn.model_selection import cross_val_score\n",
    "from sklearn.linear_model import LogisticRegression\n",
    "\n",
    "# Anova feat selection\n",
    "from sklearn.feature_selection import SelectKBest\n",
    "from sklearn.feature_selection import f_classif\n",
    "\n",
    "# KNN classifier\n",
    "from sklearn.neighbors import KNeighborsClassifier\n",
    "from sklearn.metrics import confusion_matrix\n",
    "\n",
    "# Decision Tree classifier\n",
    "from sklearn import tree"
   ]
  },
  {
   "cell_type": "code",
   "execution_count": 53,
   "id": "b0f019b3",
   "metadata": {},
   "outputs": [],
   "source": [
    "# Gives func get_anova_feat for anova selection\n",
    "%run getAnovaFeat.py\n",
    "##############################################################\n",
    "## All model files should return model for confusion matrix ##\n",
    "##############################################################\n",
    "# Gives func knn_pred for knn classifier\n",
    "%run knn.py\n",
    "\n",
    "# Gives func decision_tree_pred for classifier\n",
    "%run dt.py\n",
    "\n",
    "# Gives func ridge_reg_pred for classifier\n",
    "%run ridge.py\n",
    "\n",
    "# Gives func rf_pred for classifier\n",
    "%run randForest.py"
   ]
  },
  {
   "cell_type": "code",
   "execution_count": 3,
   "id": "cfe700fe",
   "metadata": {},
   "outputs": [],
   "source": [
    "# Importing both csv and joining\n",
    "df1 = pd.read_csv(\"Data/public-annotations.csv\")\n",
    "df2 = pd.read_csv(\"Data/public_cohen_dataset_features.csv\")\n",
    "df = df1.join(df2)\n",
    "\n",
    "# Dropping J- measurements for \"junior\"\n",
    "df = df.drop(['S-A', 'S-B', 'S-C', 'S-D', 'S-E', 'S-F', 'J-A', 'J-B', 'J-C', 'J-D', 'J-E', 'J-F', 'J-Global'], axis = 1)\n",
    "\n",
    "# Adding severity class 1, 2, 3\n",
    "df['s_class'] = 0\n",
    "\n",
    "for i in range(192):\n",
    "    if df.iloc[i, 1] <= 6:\n",
    "        df.iloc[i, 109] = 1\n",
    "        continue\n",
    "    elif df.iloc[i, 1] <= 12:\n",
    "        df.iloc[i, 109] = 2\n",
    "        continue\n",
    "    else:\n",
    "        df.iloc[i, 109] = 3\n",
    "        \n",
    "        \n",
    "# dropping filename column and S-Global score\n",
    "df_features = df.drop('filename', axis = 1)\n",
    "df_features = df_features.drop('S-Global', axis = 1)\n"
   ]
  },
  {
   "cell_type": "code",
   "execution_count": 4,
   "id": "a58af2d8",
   "metadata": {},
   "outputs": [],
   "source": [
    "# Setting features and response\n",
    "X = df_features.iloc[:, 0:107]\n",
    "Y = df_features.iloc[:, 107:108]\n",
    "\n",
    "# Splitting 80/20\n",
    "X_train, X_test, y_train, y_test = train_test_split(X, Y, test_size=0.2, random_state=20)\n",
    "\n",
    "# Scaling\n",
    "scaler = preprocessing.StandardScaler().fit(X_train)\n",
    "X_scaled = scaler.transform(X_train)\n",
    "y_train = np.ravel(y_train)\n",
    "\n",
    "# Total of each class in train\n",
    "print(sum(y_train == 1), sum(y_train == 2), sum(y_train == 3))"
   ]
  },
  {
   "cell_type": "markdown",
   "id": "29c5233a",
   "metadata": {},
   "source": [
    "## Lasso Regression"
   ]
  },
  {
   "cell_type": "code",
   "execution_count": 6,
   "id": "8d749be3",
   "metadata": {},
   "outputs": [
    {
     "name": "stdout",
     "output_type": "stream",
     "text": [
      "Accuracy on test data: 0.765 || CV Accuracy: 0.536\n"
     ]
    }
   ],
   "source": [
    "# Declaring Lasso model\n",
    "clf = LogisticRegression(penalty = 'l1', max_iter = 300, random_state=0,  solver='liblinear').fit(X_scaled, y_train)\n",
    "test_score = clf.score(X_scaled, y_train)\n",
    "\n",
    "# prepare the cross-validation procedure\n",
    "cv = KFold(n_splits=10, random_state=1, shuffle=True)\n",
    "\n",
    "# create model\n",
    "model = LogisticRegression(penalty = 'l1', max_iter = 300, random_state=0,  solver='liblinear').fit(X_scaled, y_train)\n",
    "\n",
    "# evaluate model\n",
    "scores = cross_val_score(model, X_scaled, y_train, scoring='accuracy', cv=cv, n_jobs=-1)\n",
    "\n",
    "# report performance\n",
    "print('Accuracy on test data: %.3f || CV Accuracy: %.3f' % (test_score , mean(scores)))"
   ]
  },
  {
   "cell_type": "markdown",
   "id": "4bab6462",
   "metadata": {},
   "source": [
    "# Ridge regression \n",
    "### Feature Selection - ANOVA\n",
    "**55 Features**"
   ]
  },
  {
   "cell_type": "code",
   "execution_count": 28,
   "id": "2d6bdca5",
   "metadata": {},
   "outputs": [
    {
     "name": "stdout",
     "output_type": "stream",
     "text": [
      "Accuracy on test data: 0.791 || CV Accuracy: 0.541\n"
     ]
    },
    {
     "name": "stderr",
     "output_type": "stream",
     "text": [
      "T:\\Users\\Luke\\anaconda3\\lib\\site-packages\\sklearn\\feature_selection\\_univariate_selection.py:114: UserWarning: Features [1 2] are constant.\n",
      "  warnings.warn(\"Features %s are constant.\" % constant_features_idx,\n",
      "T:\\Users\\Luke\\anaconda3\\lib\\site-packages\\sklearn\\feature_selection\\_univariate_selection.py:116: RuntimeWarning: invalid value encountered in true_divide\n",
      "  f = msb / msw\n"
     ]
    }
   ],
   "source": [
    "X_train_selected_ANOVA = get_anova_feat(55, X_scaled, y_train)\n",
    "\n",
    "# ridge_reg_pred(X_train_selected_ANOVA, y_train)\n",
    "model = ridge_reg_pred(X_train_selected_ANOVA, y_train)"
   ]
  },
  {
   "cell_type": "code",
   "execution_count": 29,
   "id": "d68ba424",
   "metadata": {},
   "outputs": [
    {
     "data": {
      "text/plain": [
       "array([[41, 15,  2],\n",
       "       [ 7, 61,  2],\n",
       "       [ 0,  6, 19]], dtype=int64)"
      ]
     },
     "execution_count": 29,
     "metadata": {},
     "output_type": "execute_result"
    }
   ],
   "source": [
    "y_pred = model.predict(X_train_selected_ANOVA)\n",
    "\n",
    "confusion_matrix(y_train, y_pred)"
   ]
  },
  {
   "cell_type": "markdown",
   "id": "d42e689e",
   "metadata": {},
   "source": [
    "**19 features (rule of ten)**"
   ]
  },
  {
   "cell_type": "code",
   "execution_count": 30,
   "id": "eb283904",
   "metadata": {},
   "outputs": [
    {
     "name": "stdout",
     "output_type": "stream",
     "text": [
      "Accuracy on test data: 0.673 || CV Accuracy: 0.566\n"
     ]
    },
    {
     "name": "stderr",
     "output_type": "stream",
     "text": [
      "T:\\Users\\Luke\\anaconda3\\lib\\site-packages\\sklearn\\feature_selection\\_univariate_selection.py:114: UserWarning: Features [1 2] are constant.\n",
      "  warnings.warn(\"Features %s are constant.\" % constant_features_idx,\n",
      "T:\\Users\\Luke\\anaconda3\\lib\\site-packages\\sklearn\\feature_selection\\_univariate_selection.py:116: RuntimeWarning: invalid value encountered in true_divide\n",
      "  f = msb / msw\n"
     ]
    }
   ],
   "source": [
    "X_train_selected_ANOVA = get_anova_feat(19, X_scaled, y_train)\n",
    "\n",
    "# Retrying Log Regression with ANOVA selected features\n",
    "model = ridge_reg_pred(X_train_selected_ANOVA, y_train)"
   ]
  },
  {
   "cell_type": "code",
   "execution_count": 31,
   "id": "053cd08b",
   "metadata": {},
   "outputs": [
    {
     "data": {
      "text/plain": [
       "array([[33, 22,  3],\n",
       "       [11, 55,  4],\n",
       "       [ 1,  9, 15]], dtype=int64)"
      ]
     },
     "execution_count": 31,
     "metadata": {},
     "output_type": "execute_result"
    }
   ],
   "source": [
    "y_pred = model.predict(X_train_selected_ANOVA)\n",
    "\n",
    "confusion_matrix(y_train, y_pred)"
   ]
  },
  {
   "cell_type": "markdown",
   "id": "486b55b1",
   "metadata": {},
   "source": [
    "# KNN\n",
    "## Feature Selection - ANOVA\n",
    "**55 Features**"
   ]
  },
  {
   "cell_type": "code",
   "execution_count": 39,
   "id": "d45527d0",
   "metadata": {},
   "outputs": [
    {
     "name": "stdout",
     "output_type": "stream",
     "text": [
      "Accuracy on test data: 0.654 || CV Accuracy: 0.483\n"
     ]
    },
    {
     "name": "stderr",
     "output_type": "stream",
     "text": [
      "T:\\Users\\Luke\\anaconda3\\lib\\site-packages\\sklearn\\feature_selection\\_univariate_selection.py:114: UserWarning: Features [1 2] are constant.\n",
      "  warnings.warn(\"Features %s are constant.\" % constant_features_idx,\n",
      "T:\\Users\\Luke\\anaconda3\\lib\\site-packages\\sklearn\\feature_selection\\_univariate_selection.py:116: RuntimeWarning: invalid value encountered in true_divide\n",
      "  f = msb / msw\n"
     ]
    }
   ],
   "source": [
    "# KNN 55 features K = 5\n",
    "X_train_selected_ANOVA = get_anova_feat(55, X_scaled, y_train)\n",
    "\n",
    "model = knn_pred(X_train_selected_ANOVA, y_train, 5)"
   ]
  },
  {
   "cell_type": "code",
   "execution_count": 33,
   "id": "cd446cf2",
   "metadata": {},
   "outputs": [
    {
     "data": {
      "text/plain": [
       "array([[38, 19,  1],\n",
       "       [14, 55,  1],\n",
       "       [ 4, 14,  7]], dtype=int64)"
      ]
     },
     "execution_count": 33,
     "metadata": {},
     "output_type": "execute_result"
    }
   ],
   "source": [
    "y_pred = model.predict(X_train_selected_ANOVA)\n",
    "\n",
    "confusion_matrix(y_train, y_pred)"
   ]
  },
  {
   "cell_type": "markdown",
   "id": "c27269f9",
   "metadata": {},
   "source": [
    "**19 Features**"
   ]
  },
  {
   "cell_type": "code",
   "execution_count": 40,
   "id": "1ca69107",
   "metadata": {},
   "outputs": [
    {
     "name": "stdout",
     "output_type": "stream",
     "text": [
      "Accuracy on test data: 0.634 || CV Accuracy: 0.405\n"
     ]
    },
    {
     "name": "stderr",
     "output_type": "stream",
     "text": [
      "T:\\Users\\Luke\\anaconda3\\lib\\site-packages\\sklearn\\feature_selection\\_univariate_selection.py:114: UserWarning: Features [1 2] are constant.\n",
      "  warnings.warn(\"Features %s are constant.\" % constant_features_idx,\n",
      "T:\\Users\\Luke\\anaconda3\\lib\\site-packages\\sklearn\\feature_selection\\_univariate_selection.py:116: RuntimeWarning: invalid value encountered in true_divide\n",
      "  f = msb / msw\n"
     ]
    }
   ],
   "source": [
    "# KNN 19 Features K = 5\n",
    "X_train_selected_ANOVA = get_anova_feat(19, X_scaled, y_train)\n",
    "\n",
    "model = knn_pred(X_train_selected_ANOVA, y_train, 5)"
   ]
  },
  {
   "cell_type": "code",
   "execution_count": 41,
   "id": "0a4c5beb",
   "metadata": {},
   "outputs": [
    {
     "data": {
      "text/plain": [
       "array([[37, 21,  0],\n",
       "       [22, 47,  1],\n",
       "       [ 6,  6, 13]], dtype=int64)"
      ]
     },
     "execution_count": 41,
     "metadata": {},
     "output_type": "execute_result"
    }
   ],
   "source": [
    "y_pred = model.predict(X_train_selected_ANOVA)\n",
    "\n",
    "confusion_matrix(y_train, y_pred)"
   ]
  },
  {
   "cell_type": "markdown",
   "id": "77d0d408",
   "metadata": {},
   "source": [
    "# Decision Tree\n",
    "## Feature Selection - ANOVA\n",
    "**55 Features**"
   ]
  },
  {
   "cell_type": "code",
   "execution_count": 45,
   "id": "0a44845d",
   "metadata": {},
   "outputs": [
    {
     "name": "stderr",
     "output_type": "stream",
     "text": [
      "T:\\Users\\Luke\\anaconda3\\lib\\site-packages\\sklearn\\feature_selection\\_univariate_selection.py:114: UserWarning: Features [1 2] are constant.\n",
      "  warnings.warn(\"Features %s are constant.\" % constant_features_idx,\n",
      "T:\\Users\\Luke\\anaconda3\\lib\\site-packages\\sklearn\\feature_selection\\_univariate_selection.py:116: RuntimeWarning: invalid value encountered in true_divide\n",
      "  f = msb / msw\n"
     ]
    },
    {
     "name": "stdout",
     "output_type": "stream",
     "text": [
      "Accuracy on test data: 1.000 || CV Accuracy: 0.359\n"
     ]
    }
   ],
   "source": [
    "#Selecting features for the model \n",
    "X_train_selected_ANOVA = get_anova_feat(55, X_scaled, y_train)\n",
    "\n",
    "# decision_tree_pred(X_train_selected_ANOVA, y_train)\n",
    "model = decision_tree_pred(X_train_selected_ANOVA, y_train)"
   ]
  },
  {
   "cell_type": "markdown",
   "id": "3a95e34a",
   "metadata": {},
   "source": [
    "**19 Features**"
   ]
  },
  {
   "cell_type": "code",
   "execution_count": 46,
   "id": "c57fc454",
   "metadata": {},
   "outputs": [
    {
     "name": "stderr",
     "output_type": "stream",
     "text": [
      "T:\\Users\\Luke\\anaconda3\\lib\\site-packages\\sklearn\\feature_selection\\_univariate_selection.py:114: UserWarning: Features [1 2] are constant.\n",
      "  warnings.warn(\"Features %s are constant.\" % constant_features_idx,\n",
      "T:\\Users\\Luke\\anaconda3\\lib\\site-packages\\sklearn\\feature_selection\\_univariate_selection.py:116: RuntimeWarning: invalid value encountered in true_divide\n",
      "  f = msb / msw\n"
     ]
    },
    {
     "name": "stdout",
     "output_type": "stream",
     "text": [
      "Accuracy on test data: 1.000 || CV Accuracy: 0.463\n"
     ]
    }
   ],
   "source": [
    "#Selecting features for the model \n",
    "X_train_selected_ANOVA = get_anova_feat(19, X_scaled, y_train)\n",
    "\n",
    "# decision_tree_pred(X_train_selected_ANOVA, y_train)\n",
    "model = decision_tree_pred(X_train_selected_ANOVA, y_train)"
   ]
  },
  {
   "cell_type": "markdown",
   "id": "4cf39e7e",
   "metadata": {},
   "source": [
    "# Random Forest \n",
    "\n",
    "**Max-depth = 3**"
   ]
  },
  {
   "cell_type": "code",
   "execution_count": 61,
   "id": "6bf26faa",
   "metadata": {},
   "outputs": [
    {
     "name": "stdout",
     "output_type": "stream",
     "text": [
      "Accuracy on test data: 0.784 || CV Accuracy: 0.523\n"
     ]
    }
   ],
   "source": [
    "model = rf_pred(X_scaled, y_train, 3)"
   ]
  },
  {
   "cell_type": "code",
   "execution_count": null,
   "id": "5a30bd45",
   "metadata": {},
   "outputs": [],
   "source": []
  }
 ],
 "metadata": {
  "kernelspec": {
   "display_name": "Python 3",
   "language": "python",
   "name": "python3"
  },
  "language_info": {
   "codemirror_mode": {
    "name": "ipython",
    "version": 3
   },
   "file_extension": ".py",
   "mimetype": "text/x-python",
   "name": "python",
   "nbconvert_exporter": "python",
   "pygments_lexer": "ipython3",
   "version": "3.8.8"
  }
 },
 "nbformat": 4,
 "nbformat_minor": 5
}
