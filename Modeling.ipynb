{
 "cells": [
  {
   "cell_type": "markdown",
   "metadata": {},
   "source": [
    "# Preprocessing"
   ]
  },
  {
   "cell_type": "code",
   "execution_count": 12,
   "metadata": {},
   "outputs": [],
   "source": [
    "# Needed libraries\n",
    "import pandas as pd\n",
    "import numpy as np\n",
    "from sklearn import preprocessing\n",
    "from sklearn.preprocessing import scale\n",
    "import matplotlib.pyplot as plt\n",
    "from sklearn.model_selection import train_test_split\n",
    "\n",
    "# evaluate a logistic regression model using k-fold cross-validation\n",
    "from numpy import mean\n",
    "from numpy import std\n",
    "from sklearn.datasets import make_classification\n",
    "from sklearn.model_selection import KFold\n",
    "from sklearn.model_selection import cross_val_score\n",
    "from sklearn.linear_model import LogisticRegression\n",
    "\n",
    "from sklearn.neighbors import KNeighborsClassifier\n",
    "from sklearn.metrics import confusion_matrix"
   ]
  },
  {
   "cell_type": "code",
   "execution_count": 13,
   "metadata": {},
   "outputs": [],
   "source": [
    "# Importing both csv and joining\n",
    "df1 = pd.read_csv(\"Data/public-annotations.csv\")\n",
    "df2 = pd.read_csv(\"Data/public_cohen_dataset_features.csv\")\n",
    "df = df1.join(df2)\n",
    "\n",
    "# Dropping J- measurements for \"junior\"\n",
    "df = df.drop(['S-A', 'S-B', 'S-C', 'S-D', 'S-E', 'S-F', 'J-A', 'J-B', 'J-C', 'J-D', 'J-E', 'J-F', 'J-Global'], axis = 1)\n",
    "\n",
    "# Adding severity class 1, 2, 3\n",
    "df['s_class'] = 0\n",
    "\n",
    "for i in range(192):\n",
    "    if df.iloc[i, 1] <= 6:\n",
    "        df.iloc[i, 109] = 1\n",
    "        continue\n",
    "    elif df.iloc[i, 1] <= 12:\n",
    "        df.iloc[i, 109] = 2\n",
    "        continue\n",
    "    else:\n",
    "        df.iloc[i, 109] = 3\n",
    "        \n",
    "        \n",
    "# dropping filename column and S-Global score\n",
    "df_features = df.drop('filename', axis = 1)\n",
    "df_features = df_features.drop('S-Global', axis = 1)\n"
   ]
  },
  {
   "cell_type": "code",
   "execution_count": 14,
   "metadata": {},
   "outputs": [],
   "source": [
    "# Setting features and response\n",
    "X = df_features.iloc[:, 0:107]\n",
    "Y = df_features.iloc[:, 107:108]\n",
    "\n",
    "# Splitting 80/20\n",
    "X_train, X_test, y_train, y_test = train_test_split(X, Y, test_size=0.2, random_state=20)\n",
    "\n",
    "# Scaling\n",
    "scaler = preprocessing.StandardScaler().fit(X_train)\n",
    "X_scaled = scaler.transform(X_train)\n",
    "y_train = np.ravel(y_train)"
   ]
  },
  {
   "cell_type": "markdown",
   "metadata": {},
   "source": [
    "Logistic Regression - Lasso Feature Selection"
   ]
  },
  {
   "cell_type": "code",
   "execution_count": 15,
   "metadata": {},
   "outputs": [],
   "source": [
    "from sklearn.linear_model import LogisticRegression\n",
    "clf = LogisticRegression(penalty = 'l1', max_iter = 300, random_state=0,  solver='liblinear').fit(X_scaled, y_train)"
   ]
  },
  {
   "cell_type": "code",
   "execution_count": 16,
   "metadata": {},
   "outputs": [
    {
     "data": {
      "text/plain": [
       "array([1, 2])"
      ]
     },
     "execution_count": 16,
     "metadata": {},
     "output_type": "execute_result"
    }
   ],
   "source": [
    "clf.predict(X_scaled[:2, :])"
   ]
  },
  {
   "cell_type": "code",
   "execution_count": 17,
   "metadata": {},
   "outputs": [
    {
     "data": {
      "text/plain": [
       "0.7647058823529411"
      ]
     },
     "execution_count": 17,
     "metadata": {},
     "output_type": "execute_result"
    }
   ],
   "source": [
    "clf.score(X_scaled, y_train)\n",
    "\n",
    "# Get confusion matrix"
   ]
  },
  {
   "cell_type": "code",
   "execution_count": 18,
   "metadata": {},
   "outputs": [
    {
     "name": "stdout",
     "output_type": "stream",
     "text": [
      "Accuracy: 0.536 (0.122)\n"
     ]
    }
   ],
   "source": [
    "# prepare the cross-validation procedure\n",
    "cv = KFold(n_splits=10, random_state=1, shuffle=True)\n",
    "\n",
    "# create model\n",
    "model = LogisticRegression(penalty = 'l1', max_iter = 300, random_state=0,  solver='liblinear').fit(X_scaled, y_train)\n",
    "\n",
    "# evaluate model\n",
    "scores = cross_val_score(model, X_scaled, y_train, scoring='accuracy', cv=cv, n_jobs=-1)\n",
    "\n",
    "# report performance\n",
    "print('Accuracy: %.3f (%.3f)' % (mean(scores), std(scores)))"
   ]
  },
  {
   "cell_type": "markdown",
   "metadata": {},
   "source": [
    "Feature Selection - ANOVA"
   ]
  },
  {
   "cell_type": "code",
   "execution_count": 19,
   "metadata": {},
   "outputs": [],
   "source": [
    "from sklearn.feature_selection import SelectKBest\n",
    "from sklearn.feature_selection import f_classif"
   ]
  },
  {
   "cell_type": "markdown",
   "metadata": {},
   "source": [
    "Ridge regression 55 features"
   ]
  },
  {
   "cell_type": "code",
   "execution_count": 20,
   "metadata": {},
   "outputs": [
    {
     "name": "stderr",
     "output_type": "stream",
     "text": [
      "/Library/Frameworks/Python.framework/Versions/3.9/lib/python3.9/site-packages/sklearn/feature_selection/_univariate_selection.py:114: UserWarning: Features [1 2] are constant.\n",
      "  warnings.warn(\"Features %s are constant.\" % constant_features_idx,\n",
      "/Library/Frameworks/Python.framework/Versions/3.9/lib/python3.9/site-packages/sklearn/feature_selection/_univariate_selection.py:116: RuntimeWarning: invalid value encountered in true_divide\n",
      "  f = msb / msw\n"
     ]
    },
    {
     "data": {
      "text/plain": [
       "0.7908496732026143"
      ]
     },
     "execution_count": 20,
     "metadata": {},
     "output_type": "execute_result"
    }
   ],
   "source": [
    "fs = SelectKBest(score_func = f_classif, k = 55)\n",
    "X_train_selected_ANOVA = fs.fit_transform(X_scaled, y_train)\n",
    "# Retrying Log Regression with ANOVA selected features\n",
    "clf = LogisticRegression(penalty = 'l2', max_iter = 150, random_state=0).fit(X_train_selected_ANOVA, y_train)\n",
    "clf.score(X_train_selected_ANOVA, y_train)"
   ]
  },
  {
   "cell_type": "code",
   "execution_count": 21,
   "metadata": {},
   "outputs": [
    {
     "name": "stdout",
     "output_type": "stream",
     "text": [
      "Accuracy: 0.541 (0.153)\n"
     ]
    }
   ],
   "source": [
    "# prepare the cross-validation procedure\n",
    "cv = KFold(n_splits=10, random_state=1, shuffle=True)\n",
    "\n",
    "# create model\n",
    "model = LogisticRegression(penalty = 'l2', max_iter = 150, random_state=0).fit(X_train_selected_ANOVA, y_train)\n",
    "\n",
    "# evaluate model\n",
    "scores = cross_val_score(model, X_train_selected_ANOVA, y_train, scoring='accuracy', cv=cv, n_jobs=-1)\n",
    "\n",
    "# report performance\n",
    "print('Accuracy: %.3f (%.3f)' % (mean(scores), std(scores)))"
   ]
  },
  {
   "cell_type": "code",
   "execution_count": 22,
   "metadata": {},
   "outputs": [
    {
     "data": {
      "text/plain": [
       "array([[41, 15,  2],\n",
       "       [ 7, 61,  2],\n",
       "       [ 0,  6, 19]])"
      ]
     },
     "execution_count": 22,
     "metadata": {},
     "output_type": "execute_result"
    }
   ],
   "source": [
    "y_pred = clf.predict(X_train_selected_ANOVA)\n",
    "\n",
    "confusion_matrix(y_train, y_pred)"
   ]
  },
  {
   "cell_type": "markdown",
   "metadata": {},
   "source": [
    "Ridge Regression 19 features (rule of ten)"
   ]
  },
  {
   "cell_type": "code",
   "execution_count": 23,
   "metadata": {},
   "outputs": [
    {
     "name": "stderr",
     "output_type": "stream",
     "text": [
      "/Library/Frameworks/Python.framework/Versions/3.9/lib/python3.9/site-packages/sklearn/feature_selection/_univariate_selection.py:114: UserWarning: Features [1 2] are constant.\n",
      "  warnings.warn(\"Features %s are constant.\" % constant_features_idx,\n",
      "/Library/Frameworks/Python.framework/Versions/3.9/lib/python3.9/site-packages/sklearn/feature_selection/_univariate_selection.py:116: RuntimeWarning: invalid value encountered in true_divide\n",
      "  f = msb / msw\n"
     ]
    },
    {
     "data": {
      "text/plain": [
       "0.673202614379085"
      ]
     },
     "execution_count": 23,
     "metadata": {},
     "output_type": "execute_result"
    }
   ],
   "source": [
    "fs = SelectKBest(score_func = f_classif, k = 19)\n",
    "X_train_selected_ANOVA = fs.fit_transform(X_scaled, y_train)\n",
    "# Retrying Log Regression with ANOVA selected features\n",
    "clf = LogisticRegression(penalty = 'l2', max_iter = 150, random_state=0).fit(X_train_selected_ANOVA, y_train)\n",
    "clf.score(X_train_selected_ANOVA, y_train)"
   ]
  },
  {
   "cell_type": "code",
   "execution_count": 24,
   "metadata": {},
   "outputs": [
    {
     "name": "stdout",
     "output_type": "stream",
     "text": [
      "Accuracy: 0.566 (0.150)\n"
     ]
    }
   ],
   "source": [
    "# prepare the cross-validation procedure\n",
    "cv = KFold(n_splits=10, random_state=1, shuffle=True)\n",
    "\n",
    "# create model\n",
    "model = LogisticRegression(penalty = 'l2', max_iter = 150, random_state=0).fit(X_train_selected_ANOVA, y_train)\n",
    "\n",
    "# evaluate model\n",
    "scores = cross_val_score(model, X_train_selected_ANOVA, y_train, scoring='accuracy', cv=cv, n_jobs=-1)\n",
    "\n",
    "# report performance\n",
    "print('Accuracy: %.3f (%.3f)' % (mean(scores), std(scores)))"
   ]
  },
  {
   "cell_type": "code",
   "execution_count": null,
   "metadata": {},
   "outputs": [],
   "source": []
  },
  {
   "cell_type": "code",
   "execution_count": 25,
   "metadata": {},
   "outputs": [
    {
     "name": "stdout",
     "output_type": "stream",
     "text": [
      "Accuracy: 0.483 (0.096)\n"
     ]
    },
    {
     "name": "stderr",
     "output_type": "stream",
     "text": [
      "/Library/Frameworks/Python.framework/Versions/3.9/lib/python3.9/site-packages/sklearn/feature_selection/_univariate_selection.py:114: UserWarning: Features [1 2] are constant.\n",
      "  warnings.warn(\"Features %s are constant.\" % constant_features_idx,\n",
      "/Library/Frameworks/Python.framework/Versions/3.9/lib/python3.9/site-packages/sklearn/feature_selection/_univariate_selection.py:116: RuntimeWarning: invalid value encountered in true_divide\n",
      "  f = msb / msw\n"
     ]
    }
   ],
   "source": [
    "# KNN 55 features K = 5\n",
    "fs = SelectKBest(score_func = f_classif, k = 55)\n",
    "X_train_selected_ANOVA = fs.fit_transform(X_scaled, y_train)\n",
    "\n",
    "neigh = KNeighborsClassifier(n_neighbors=5)\n",
    "neigh.fit(X_train_selected_ANOVA, y_train)\n",
    "\n",
    "neigh.score(X_train_selected_ANOVA, y_train)\n",
    "\n",
    "# prepare the cross-validation procedure\n",
    "cv = KFold(n_splits=10, random_state=1, shuffle=True)\n",
    "\n",
    "# create model\n",
    "model = KNeighborsClassifier(n_neighbors=5)\n",
    "\n",
    "# evaluate model\n",
    "scores = cross_val_score(model, X_train_selected_ANOVA, y_train, scoring='accuracy', cv=cv, n_jobs=-1)\n",
    "\n",
    "# report performance\n",
    "print('Accuracy: %.3f (%.3f)' % (mean(scores), std(scores)))"
   ]
  },
  {
   "cell_type": "code",
   "execution_count": 26,
   "metadata": {},
   "outputs": [
    {
     "data": {
      "text/plain": [
       "array([[38, 19,  1],\n",
       "       [14, 55,  1],\n",
       "       [ 4, 14,  7]])"
      ]
     },
     "execution_count": 26,
     "metadata": {},
     "output_type": "execute_result"
    }
   ],
   "source": [
    "y_pred = neigh.predict(X_train_selected_ANOVA)\n",
    "\n",
    "confusion_matrix(y_train, y_pred)"
   ]
  },
  {
   "cell_type": "code",
   "execution_count": null,
   "metadata": {},
   "outputs": [],
   "source": []
  },
  {
   "cell_type": "code",
   "execution_count": 27,
   "metadata": {},
   "outputs": [
    {
     "name": "stdout",
     "output_type": "stream",
     "text": [
      "Accuracy: 0.405 (0.121)\n"
     ]
    },
    {
     "name": "stderr",
     "output_type": "stream",
     "text": [
      "/Library/Frameworks/Python.framework/Versions/3.9/lib/python3.9/site-packages/sklearn/feature_selection/_univariate_selection.py:114: UserWarning: Features [1 2] are constant.\n",
      "  warnings.warn(\"Features %s are constant.\" % constant_features_idx,\n",
      "/Library/Frameworks/Python.framework/Versions/3.9/lib/python3.9/site-packages/sklearn/feature_selection/_univariate_selection.py:116: RuntimeWarning: invalid value encountered in true_divide\n",
      "  f = msb / msw\n"
     ]
    }
   ],
   "source": [
    "# KNN 19 Features K = 5\n",
    "fs = SelectKBest(score_func = f_classif, k = 19)\n",
    "X_train_selected_ANOVA = fs.fit_transform(X_scaled, y_train)\n",
    "\n",
    "neigh = KNeighborsClassifier(n_neighbors=5)\n",
    "neigh.fit(X_train_selected_ANOVA, y_train)\n",
    "\n",
    "neigh.score(X_train_selected_ANOVA, y_train)\n",
    "\n",
    "# prepare the cross-validation procedure\n",
    "cv = KFold(n_splits=10, random_state=1, shuffle=True)\n",
    "\n",
    "# create model\n",
    "model = KNeighborsClassifier(n_neighbors=5)\n",
    "\n",
    "# evaluate model\n",
    "scores = cross_val_score(model, X_train_selected_ANOVA, y_train, scoring='accuracy', cv=cv, n_jobs=-1)\n",
    "\n",
    "# report performance\n",
    "print('Accuracy: %.3f (%.3f)' % (mean(scores), std(scores)))"
   ]
  },
  {
   "cell_type": "code",
   "execution_count": 28,
   "metadata": {},
   "outputs": [
    {
     "name": "stdout",
     "output_type": "stream",
     "text": [
      "58 70 25\n"
     ]
    }
   ],
   "source": [
    "# Total of each class in train\n",
    "print(sum(y_train == 1), sum(y_train == 2), sum(y_train == 3))"
   ]
  },
  {
   "cell_type": "code",
   "execution_count": 29,
   "metadata": {},
   "outputs": [],
   "source": [
    "from sklearn import tree"
   ]
  },
  {
   "cell_type": "code",
   "execution_count": 30,
   "metadata": {},
   "outputs": [
    {
     "name": "stderr",
     "output_type": "stream",
     "text": [
      "/Library/Frameworks/Python.framework/Versions/3.9/lib/python3.9/site-packages/sklearn/feature_selection/_univariate_selection.py:114: UserWarning: Features [1 2] are constant.\n",
      "  warnings.warn(\"Features %s are constant.\" % constant_features_idx,\n",
      "/Library/Frameworks/Python.framework/Versions/3.9/lib/python3.9/site-packages/sklearn/feature_selection/_univariate_selection.py:116: RuntimeWarning: invalid value encountered in true_divide\n",
      "  f = msb / msw\n"
     ]
    }
   ],
   "source": [
    "#Selecting features for the model \n",
    "fs = SelectKBest(score_func = f_classif, k = 19)\n",
    "X_train_selected_ANOVA = fs.fit_transform(X_scaled, y_train)\n",
    "\n",
    "#getting tree\n",
    "clf = tree.DecisionTreeClassifier()\n",
    "clf = clf.fit(X_train_selected_ANOVA, y_train)"
   ]
  },
  {
   "cell_type": "code",
   "execution_count": 31,
   "metadata": {},
   "outputs": [
    {
     "data": {
      "text/plain": [
       "[Text(190.31785714285715, 208.38, 'X[0] <= 0.669\\ngini = 0.62\\nsamples = 153\\nvalue = [58, 70, 25]'),\n",
       " Text(119.57142857142857, 190.26, 'X[18] <= 0.253\\ngini = 0.559\\nsamples = 118\\nvalue = [51, 59, 8]'),\n",
       " Text(43.84285714285714, 172.14, 'X[18] <= -0.806\\ngini = 0.542\\nsamples = 73\\nvalue = [21, 44, 8]'),\n",
       " Text(15.942857142857143, 154.01999999999998, 'X[12] <= 0.498\\ngini = 0.142\\nsamples = 13\\nvalue = [0, 12, 1]'),\n",
       " Text(7.9714285714285715, 135.89999999999998, 'gini = 0.0\\nsamples = 12\\nvalue = [0, 12, 0]'),\n",
       " Text(23.914285714285715, 135.89999999999998, 'gini = 0.0\\nsamples = 1\\nvalue = [0, 0, 1]'),\n",
       " Text(71.74285714285715, 154.01999999999998, 'X[18] <= -0.677\\ngini = 0.579\\nsamples = 60\\nvalue = [21, 32, 7]'),\n",
       " Text(39.85714285714286, 135.89999999999998, 'X[0] <= 0.244\\ngini = 0.54\\nsamples = 10\\nvalue = [6, 1, 3]'),\n",
       " Text(23.914285714285715, 117.77999999999999, 'X[14] <= -0.561\\ngini = 0.278\\nsamples = 6\\nvalue = [5, 1, 0]'),\n",
       " Text(15.942857142857143, 99.66, 'gini = 0.0\\nsamples = 1\\nvalue = [0, 1, 0]'),\n",
       " Text(31.885714285714286, 99.66, 'gini = 0.0\\nsamples = 5\\nvalue = [5, 0, 0]'),\n",
       " Text(55.8, 117.77999999999999, 'X[18] <= -0.687\\ngini = 0.375\\nsamples = 4\\nvalue = [1, 0, 3]'),\n",
       " Text(47.82857142857143, 99.66, 'gini = 0.0\\nsamples = 3\\nvalue = [0, 0, 3]'),\n",
       " Text(63.77142857142857, 99.66, 'gini = 0.0\\nsamples = 1\\nvalue = [1, 0, 0]'),\n",
       " Text(103.62857142857143, 135.89999999999998, 'X[12] <= 0.941\\ngini = 0.519\\nsamples = 50\\nvalue = [15, 31, 4]'),\n",
       " Text(87.68571428571428, 117.77999999999999, 'X[7] <= 0.707\\ngini = 0.473\\nsamples = 45\\nvalue = [15, 29, 1]'),\n",
       " Text(79.71428571428572, 99.66, 'X[1] <= -0.0\\ngini = 0.453\\nsamples = 43\\nvalue = [13, 29, 1]'),\n",
       " Text(63.77142857142857, 81.53999999999999, 'X[15] <= -0.412\\ngini = 0.497\\nsamples = 24\\nvalue = [11, 13, 0]'),\n",
       " Text(55.8, 63.41999999999999, 'X[3] <= -0.511\\ngini = 0.305\\nsamples = 16\\nvalue = [3, 13, 0]'),\n",
       " Text(39.85714285714286, 45.29999999999998, 'X[5] <= -0.865\\ngini = 0.142\\nsamples = 13\\nvalue = [1, 12, 0]'),\n",
       " Text(31.885714285714286, 27.17999999999998, 'X[17] <= -0.858\\ngini = 0.375\\nsamples = 4\\nvalue = [1, 3, 0]'),\n",
       " Text(23.914285714285715, 9.059999999999974, 'gini = 0.0\\nsamples = 3\\nvalue = [0, 3, 0]'),\n",
       " Text(39.85714285714286, 9.059999999999974, 'gini = 0.0\\nsamples = 1\\nvalue = [1, 0, 0]'),\n",
       " Text(47.82857142857143, 27.17999999999998, 'gini = 0.0\\nsamples = 9\\nvalue = [0, 9, 0]'),\n",
       " Text(71.74285714285715, 45.29999999999998, 'X[14] <= 0.055\\ngini = 0.444\\nsamples = 3\\nvalue = [2, 1, 0]'),\n",
       " Text(63.77142857142857, 27.17999999999998, 'gini = 0.0\\nsamples = 1\\nvalue = [0, 1, 0]'),\n",
       " Text(79.71428571428572, 27.17999999999998, 'gini = 0.0\\nsamples = 2\\nvalue = [2, 0, 0]'),\n",
       " Text(71.74285714285715, 63.41999999999999, 'gini = 0.0\\nsamples = 8\\nvalue = [8, 0, 0]'),\n",
       " Text(95.65714285714286, 81.53999999999999, 'X[18] <= -0.53\\ngini = 0.277\\nsamples = 19\\nvalue = [2, 16, 1]'),\n",
       " Text(87.68571428571428, 63.41999999999999, 'gini = 0.0\\nsamples = 1\\nvalue = [0, 0, 1]'),\n",
       " Text(103.62857142857143, 63.41999999999999, 'X[4] <= -1.496\\ngini = 0.198\\nsamples = 18\\nvalue = [2, 16, 0]'),\n",
       " Text(95.65714285714286, 45.29999999999998, 'gini = 0.0\\nsamples = 1\\nvalue = [1, 0, 0]'),\n",
       " Text(111.6, 45.29999999999998, 'X[11] <= -0.189\\ngini = 0.111\\nsamples = 17\\nvalue = [1, 16, 0]'),\n",
       " Text(103.62857142857143, 27.17999999999998, 'X[9] <= -0.289\\ngini = 0.5\\nsamples = 2\\nvalue = [1, 1, 0]'),\n",
       " Text(95.65714285714286, 9.059999999999974, 'gini = 0.0\\nsamples = 1\\nvalue = [1, 0, 0]'),\n",
       " Text(111.6, 9.059999999999974, 'gini = 0.0\\nsamples = 1\\nvalue = [0, 1, 0]'),\n",
       " Text(119.57142857142857, 27.17999999999998, 'gini = 0.0\\nsamples = 15\\nvalue = [0, 15, 0]'),\n",
       " Text(95.65714285714286, 99.66, 'gini = 0.0\\nsamples = 2\\nvalue = [2, 0, 0]'),\n",
       " Text(119.57142857142857, 117.77999999999999, 'X[5] <= -0.163\\ngini = 0.48\\nsamples = 5\\nvalue = [0, 2, 3]'),\n",
       " Text(111.6, 99.66, 'gini = 0.0\\nsamples = 3\\nvalue = [0, 0, 3]'),\n",
       " Text(127.54285714285714, 99.66, 'gini = 0.0\\nsamples = 2\\nvalue = [0, 2, 0]'),\n",
       " Text(195.3, 172.14, 'X[17] <= 1.855\\ngini = 0.444\\nsamples = 45\\nvalue = [30, 15, 0]'),\n",
       " Text(187.32857142857142, 154.01999999999998, 'X[13] <= 0.976\\ngini = 0.486\\nsamples = 36\\nvalue = [21, 15, 0]'),\n",
       " Text(167.4, 135.89999999999998, 'X[17] <= -0.194\\ngini = 0.33\\nsamples = 24\\nvalue = [19, 5, 0]'),\n",
       " Text(151.45714285714286, 117.77999999999999, 'X[14] <= 0.155\\ngini = 0.49\\nsamples = 7\\nvalue = [3, 4, 0]'),\n",
       " Text(143.4857142857143, 99.66, 'gini = 0.0\\nsamples = 4\\nvalue = [0, 4, 0]'),\n",
       " Text(159.42857142857144, 99.66, 'gini = 0.0\\nsamples = 3\\nvalue = [3, 0, 0]'),\n",
       " Text(183.34285714285716, 117.77999999999999, 'X[18] <= 1.266\\ngini = 0.111\\nsamples = 17\\nvalue = [16, 1, 0]'),\n",
       " Text(175.37142857142857, 99.66, 'gini = 0.0\\nsamples = 16\\nvalue = [16, 0, 0]'),\n",
       " Text(191.31428571428572, 99.66, 'gini = 0.0\\nsamples = 1\\nvalue = [0, 1, 0]'),\n",
       " Text(207.25714285714287, 135.89999999999998, 'X[5] <= 1.873\\ngini = 0.278\\nsamples = 12\\nvalue = [2, 10, 0]'),\n",
       " Text(199.28571428571428, 117.77999999999999, 'gini = 0.0\\nsamples = 8\\nvalue = [0, 8, 0]'),\n",
       " Text(215.22857142857143, 117.77999999999999, 'X[11] <= 2.389\\ngini = 0.5\\nsamples = 4\\nvalue = [2, 2, 0]'),\n",
       " Text(207.25714285714287, 99.66, 'gini = 0.0\\nsamples = 2\\nvalue = [2, 0, 0]'),\n",
       " Text(223.2, 99.66, 'gini = 0.0\\nsamples = 2\\nvalue = [0, 2, 0]'),\n",
       " Text(203.27142857142857, 154.01999999999998, 'gini = 0.0\\nsamples = 9\\nvalue = [9, 0, 0]'),\n",
       " Text(261.06428571428575, 190.26, 'X[18] <= -0.709\\ngini = 0.625\\nsamples = 35\\nvalue = [7, 11, 17]'),\n",
       " Text(239.14285714285714, 172.14, 'X[2] <= -0.536\\ngini = 0.357\\nsamples = 14\\nvalue = [2, 1, 11]'),\n",
       " Text(231.17142857142858, 154.01999999999998, 'X[14] <= 0.228\\ngini = 0.153\\nsamples = 12\\nvalue = [0, 1, 11]'),\n",
       " Text(223.2, 135.89999999999998, 'gini = 0.0\\nsamples = 1\\nvalue = [0, 1, 0]'),\n",
       " Text(239.14285714285714, 135.89999999999998, 'gini = 0.0\\nsamples = 11\\nvalue = [0, 0, 11]'),\n",
       " Text(247.11428571428573, 154.01999999999998, 'gini = 0.0\\nsamples = 2\\nvalue = [2, 0, 0]'),\n",
       " Text(282.98571428571427, 172.14, 'X[10] <= -0.593\\ngini = 0.635\\nsamples = 21\\nvalue = [5, 10, 6]'),\n",
       " Text(263.0571428571429, 154.01999999999998, 'X[16] <= 1.728\\ngini = 0.219\\nsamples = 8\\nvalue = [0, 7, 1]'),\n",
       " Text(255.0857142857143, 135.89999999999998, 'gini = 0.0\\nsamples = 7\\nvalue = [0, 7, 0]'),\n",
       " Text(271.0285714285714, 135.89999999999998, 'gini = 0.0\\nsamples = 1\\nvalue = [0, 0, 1]'),\n",
       " Text(302.9142857142857, 154.01999999999998, 'X[0] <= 0.831\\ngini = 0.651\\nsamples = 13\\nvalue = [5, 3, 5]'),\n",
       " Text(286.9714285714286, 135.89999999999998, 'X[12] <= -0.07\\ngini = 0.48\\nsamples = 5\\nvalue = [0, 2, 3]'),\n",
       " Text(279.0, 117.77999999999999, 'gini = 0.0\\nsamples = 3\\nvalue = [0, 0, 3]'),\n",
       " Text(294.9428571428571, 117.77999999999999, 'gini = 0.0\\nsamples = 2\\nvalue = [0, 2, 0]'),\n",
       " Text(318.8571428571429, 135.89999999999998, 'X[0] <= 1.155\\ngini = 0.531\\nsamples = 8\\nvalue = [5, 1, 2]'),\n",
       " Text(310.8857142857143, 117.77999999999999, 'X[4] <= 1.145\\ngini = 0.278\\nsamples = 6\\nvalue = [5, 1, 0]'),\n",
       " Text(302.9142857142857, 99.66, 'gini = 0.0\\nsamples = 4\\nvalue = [4, 0, 0]'),\n",
       " Text(318.8571428571429, 99.66, 'X[13] <= -0.166\\ngini = 0.5\\nsamples = 2\\nvalue = [1, 1, 0]'),\n",
       " Text(310.8857142857143, 81.53999999999999, 'gini = 0.0\\nsamples = 1\\nvalue = [0, 1, 0]'),\n",
       " Text(326.8285714285714, 81.53999999999999, 'gini = 0.0\\nsamples = 1\\nvalue = [1, 0, 0]'),\n",
       " Text(326.8285714285714, 117.77999999999999, 'gini = 0.0\\nsamples = 2\\nvalue = [0, 0, 2]')]"
      ]
     },
     "execution_count": 31,
     "metadata": {},
     "output_type": "execute_result"
    },
    {
     "data": {
      "image/png": "[encoded data removed]",
      "text/plain": [
       "<Figure size 432x288 with 1 Axes>"
      ]
     },
     "metadata": {
      "needs_background": "light"
     },
     "output_type": "display_data"
    }
   ],
   "source": [
    "tree.plot_tree(clf)"
   ]
  },
  {
   "cell_type": "code",
   "execution_count": 32,
   "metadata": {},
   "outputs": [
    {
     "data": {
      "text/plain": [
       "1.0"
      ]
     },
     "execution_count": 32,
     "metadata": {},
     "output_type": "execute_result"
    }
   ],
   "source": [
    "clf.score(X_train_selected_ANOVA, y_train)"
   ]
  },
  {
   "cell_type": "code",
   "execution_count": 37,
   "metadata": {},
   "outputs": [
    {
     "name": "stderr",
     "output_type": "stream",
     "text": [
      "/Library/Frameworks/Python.framework/Versions/3.9/lib/python3.9/site-packages/sklearn/feature_selection/_univariate_selection.py:114: UserWarning: Features [1 2] are constant.\n",
      "  warnings.warn(\"Features %s are constant.\" % constant_features_idx,\n",
      "/Library/Frameworks/Python.framework/Versions/3.9/lib/python3.9/site-packages/sklearn/feature_selection/_univariate_selection.py:116: RuntimeWarning: invalid value encountered in true_divide\n",
      "  f = msb / msw\n"
     ]
    },
    {
     "ename": "NameError",
     "evalue": "name 'KFold' is not defined",
     "output_type": "error",
     "traceback": [
      "\u001b[0;31m---------------------------------------------------------------------------\u001b[0m",
      "\u001b[0;31mNameError\u001b[0m                                 Traceback (most recent call last)",
      "\u001b[0;32m<ipython-input-37-bcfe2596208c>\u001b[0m in \u001b[0;36m<module>\u001b[0;34m\u001b[0m\n\u001b[1;32m      5\u001b[0m \u001b[0mget_ipython\u001b[0m\u001b[0;34m(\u001b[0m\u001b[0;34m)\u001b[0m\u001b[0;34m.\u001b[0m\u001b[0mrun_line_magic\u001b[0m\u001b[0;34m(\u001b[0m\u001b[0;34m'run'\u001b[0m\u001b[0;34m,\u001b[0m \u001b[0;34m'dt.py'\u001b[0m\u001b[0;34m)\u001b[0m\u001b[0;34m\u001b[0m\u001b[0;34m\u001b[0m\u001b[0m\n\u001b[1;32m      6\u001b[0m \u001b[0;34m\u001b[0m\u001b[0m\n\u001b[0;32m----> 7\u001b[0;31m \u001b[0mdecision_tree_pred\u001b[0m \u001b[0;34m(\u001b[0m\u001b[0mX_train_selected_ANOVA\u001b[0m\u001b[0;34m,\u001b[0m \u001b[0my_train\u001b[0m\u001b[0;34m)\u001b[0m\u001b[0;34m\u001b[0m\u001b[0;34m\u001b[0m\u001b[0m\n\u001b[0m",
      "\u001b[0;32m~/Desktop/covid_19_severity_prediction/dt.py\u001b[0m in \u001b[0;36mdecision_tree_pred\u001b[0;34m(X_train_selected_ANOVA, y_train)\u001b[0m\n\u001b[1;32m      8\u001b[0m \u001b[0;34m\u001b[0m\u001b[0m\n\u001b[1;32m      9\u001b[0m     \u001b[0;31m# prepare the cross-validation procedure\u001b[0m\u001b[0;34m\u001b[0m\u001b[0;34m\u001b[0m\u001b[0;34m\u001b[0m\u001b[0m\n\u001b[0;32m---> 10\u001b[0;31m     \u001b[0mcv\u001b[0m \u001b[0;34m=\u001b[0m \u001b[0mKFold\u001b[0m\u001b[0;34m(\u001b[0m\u001b[0mn_splits\u001b[0m\u001b[0;34m=\u001b[0m\u001b[0;36m10\u001b[0m\u001b[0;34m,\u001b[0m \u001b[0mrandom_state\u001b[0m\u001b[0;34m=\u001b[0m\u001b[0;36m1\u001b[0m\u001b[0;34m,\u001b[0m \u001b[0mshuffle\u001b[0m\u001b[0;34m=\u001b[0m\u001b[0;32mTrue\u001b[0m\u001b[0;34m)\u001b[0m\u001b[0;34m\u001b[0m\u001b[0;34m\u001b[0m\u001b[0m\n\u001b[0m\u001b[1;32m     11\u001b[0m \u001b[0;34m\u001b[0m\u001b[0m\n\u001b[1;32m     12\u001b[0m     \u001b[0;31m# create model\u001b[0m\u001b[0;34m\u001b[0m\u001b[0;34m\u001b[0m\u001b[0;34m\u001b[0m\u001b[0m\n",
      "\u001b[0;31mNameError\u001b[0m: name 'KFold' is not defined"
     ]
    }
   ],
   "source": [
    "# Decisions Tree\n",
    "fs = SelectKBest(score_func = f_classif, k = 19)\n",
    "X_train_selected_ANOVA = fs.fit_transform(X_scaled, y_train)\n",
    "\n",
    "%run dt.py\n",
    "\n",
    "decision_tree_pred (X_train_selected_ANOVA, y_train)"
   ]
  },
  {
   "cell_type": "code",
   "execution_count": 35,
   "metadata": {},
   "outputs": [
    {
     "name": "stdout",
     "output_type": "stream",
     "text": [
      "Accuracy: 0.523 (0.141)\n"
     ]
    },
    {
     "name": "stderr",
     "output_type": "stream",
     "text": [
      "/Library/Frameworks/Python.framework/Versions/3.9/lib/python3.9/site-packages/sklearn/feature_selection/_univariate_selection.py:114: UserWarning: Features [1 2] are constant.\n",
      "  warnings.warn(\"Features %s are constant.\" % constant_features_idx,\n",
      "/Library/Frameworks/Python.framework/Versions/3.9/lib/python3.9/site-packages/sklearn/feature_selection/_univariate_selection.py:116: RuntimeWarning: invalid value encountered in true_divide\n",
      "  f = msb / msw\n"
     ]
    }
   ],
   "source": [
    "# Decisions Tree\n",
    "fs = SelectKBest(score_func = f_classif, k = 10)\n",
    "X_train_selected_ANOVA = fs.fit_transform(X_scaled, y_train)\n",
    "\n",
    "#getting tree\n",
    "clf = tree.DecisionTreeClassifier()\n",
    "clf = clf.fit(X_train_selected_ANOVA, y_train)\n",
    "\n",
    "clf.score(X_train_selected_ANOVA, y_train)\n",
    "\n",
    "# prepare the cross-validation procedure\n",
    "cv = KFold(n_splits=10, random_state=1, shuffle=True)\n",
    "\n",
    "# create model\n",
    "model = tree.DecisionTreeClassifier()\n",
    "\n",
    "# evaluate model\n",
    "scores = cross_val_score(model, X_train_selected_ANOVA, y_train, scoring='accuracy', cv=cv, n_jobs=-1)\n",
    "\n",
    "# report performance\n",
    "print('Accuracy: %.3f (%.3f)' % (mean(scores), std(scores)))"
   ]
  },
  {
   "cell_type": "code",
   "execution_count": null,
   "metadata": {},
   "outputs": [],
   "source": []
  }
 ],
 "metadata": {
  "kernelspec": {
   "display_name": "Python 3",
   "language": "python",
   "name": "python3"
  },
  "language_info": {
   "codemirror_mode": {
    "name": "ipython",
    "version": 3
   },
   "file_extension": ".py",
   "mimetype": "text/x-python",
   "name": "python",
   "nbconvert_exporter": "python",
   "pygments_lexer": "ipython3",
   "version": "3.9.0"
  }
 },
 "nbformat": 4,
 "nbformat_minor": 5
}
